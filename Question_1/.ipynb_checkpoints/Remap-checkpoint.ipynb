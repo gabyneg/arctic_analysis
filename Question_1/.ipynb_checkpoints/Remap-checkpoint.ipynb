{
 "cells": [
  {
   "cell_type": "markdown",
   "id": "907acad3-981a-4855-a0c8-f3642a3222cf",
   "metadata": {},
   "source": [
    "## Bash Remap \n",
    "This is after bash_averaging_climatology \n",
    "\n",
    "Where scrips like these are used: \n",
    "\n",
    "for n in {104..124}\n",
    "do\n",
    "   echo \"Working on simulation ${n}...\"\n",
    "   cp g.e21.G1850ECOIAF.t62_g17.marbl0_33.GNG595.pop.h.0${n}-01.nc /glade/scratch/gabyn/GNG595_2ndcycle_20year_clim\n",
    "done\n",
    "\n",
    "nces * GNG595_20year-01.nc\n",
    "mv GNG595_20year-01.nc clim_20yr_GNG595_01.nc\n",
    "rm -rf g* "
   ]
  },
  {
   "cell_type": "code",
   "execution_count": null,
   "id": "e086f78f-4cd2-4183-86ba-3e0f2aa48ecd",
   "metadata": {},
   "outputs": [],
   "source": [
    "cd /glade/scratch/gabyn/MODIS_Aqua/mapped_monrhtly_climatology\n",
    "\n",
    "cp * /glade/scratch/gabyn/MODIS_Aqua/mapped_monrhtly_climatology_regridded\n",
    "\n",
    "cd /glade/scratch/gabyn/MODIS_Aqua/mapped_monrhtly_climatology_regridded\n",
    "\n",
    "for n in {01..12}\n",
    "do\n",
    "    echo \"Working on simulation ${n}...\"\n",
    "   mv ${n}_*.nc MODIS_chl_ocx_${n}.nc\n",
    "done\n"
   ]
  },
  {
   "cell_type": "code",
   "execution_count": null,
   "id": "5110a094-4e31-44da-8942-dfbd2c916d6b",
   "metadata": {},
   "outputs": [],
   "source": [
    "for n in {01..12}\n",
    "do\n",
    "echo \"Working on simulation ${n}...\"\n",
    "ncatted -a coordinates,chl_ocx,c,c,\"lon lat\" MODIS_chl_ocx_${n}.nc\n",
    "done\n",
    "\n",
    "for n in {01..12}\n",
    "do\n",
    "echo \"Working on simulation ${n}...\"\n",
    "cdo remapbil,r360x180 -selname,chl_ocx MODIS_chl_ocx_${n}.nc MODIS_Aqua_chl_ocx_${n}.nc\n",
    "done\n",
    "\n",
    "for n in {01..12}\n",
    "do\n",
    "echo \"Working on simulation ${n}...\"\n",
    "cdo sellonlatbox,-180,180,-89.5,89.5 MODIS_Aqua_chl_ocx_${n}.nc regrid_MODIS_Aqua_chl_ocx_${n}.nc\n",
    "done"
   ]
  },
  {
   "cell_type": "code",
   "execution_count": null,
   "id": "51021a5a-54c9-410d-86ad-6ea41281092f",
   "metadata": {},
   "outputs": [],
   "source": [
    "% where the original file is \n",
    "cd /glade/scratch/gabyn/GNG595_2ndcycle_20year_clim/\n",
    "\n",
    "% copy output to my scratch file \n",
    "cp * /glade/scratch/gabyn/GNG595_2ndcycle_20year_clim_remap\n",
    "\n",
    "% go to my scratch directory \n",
    "cd /glade/scratch/gabyn/GNG595_2ndcycle_20year_clim_remap\n",
    "\n",
    "% rename all of the files to make them easier. \n",
    "for n in {01..12}\n",
    "do\n",
    "    echo \"Working on simulation ${n}...\"\n",
    "   mv clim_20yr_GNG595_${n}.nc GNG595.${n}.nc\n",
    "done"
   ]
  },
  {
   "cell_type": "code",
   "execution_count": null,
   "id": "1c3eea40-bc24-4daa-9e95-1c2f3e59fded",
   "metadata": {},
   "outputs": [],
   "source": [
    "% where the original file is \n",
    "cd /glade/scratch/gabyn/GNG595_2ndcycle_20year_064_083_clim/\n",
    "\n",
    "% copy output to my scratch file \n",
    "cp * /glade/scratch/gabyn/GNG595_2ndcycle_20year_064_083_clim_remap\n",
    "\n",
    "% go to my scratch directory \n",
    "cd /glade/scratch/gabyn/GNG595_2ndcycle_20year_064_083_clim_remap\n",
    "\n",
    "% rename all of the files to make them easier. \n",
    "for n in {01..12}\n",
    "do\n",
    "    echo \"Working on simulation ${n}...\"\n",
    "   mv clim_20yr_GNG595_064_083_clim_${n}.nc GNG595.${n}.nc\n",
    "done"
   ]
  },
  {
   "cell_type": "code",
   "execution_count": null,
   "id": "11a65982-011d-4cb2-8e55-1038ed21a8ff",
   "metadata": {},
   "outputs": [],
   "source": [
    "% where the original file is \n",
    "cd /glade/scratch/gabyn/GNG595_2ndcycle_20year_084_103_clim/\n",
    "\n",
    "% copy output to my scratch file \n",
    "cp * /glade/scratch/gabyn/GNG595_2ndcycle_20year_084_103_clim_remap\n",
    "\n",
    "% go to my scratch directory \n",
    "cd /glade/scratch/gabyn/GNG595_2ndcycle_20year_084_103_clim_remap\n",
    "\n",
    "% rename all of the files to make them easier. \n",
    "for n in {01..12}\n",
    "do\n",
    "    echo \"Working on simulation ${n}...\"\n",
    "   mv clim_20yr_GNG595_084_103_clim_${n}.nc GNG595.${n}.nc\n",
    "done"
   ]
  },
  {
   "cell_type": "code",
   "execution_count": null,
   "id": "2d87b5aa-3a3f-4808-8d0b-8999dfff3833",
   "metadata": {},
   "outputs": [],
   "source": [
    "for n in {01..12}\n",
    "do\n",
    "echo \"Working on simulation ${n}...\"\n",
    "ncatted -a coordinates,TEMP,c,c,\"TLONG TLAT\" GNG595.${n}.nc\n",
    "done"
   ]
  },
  {
   "cell_type": "code",
   "execution_count": null,
   "id": "f50148ad-fec6-465d-9d6f-6e665fafb7de",
   "metadata": {},
   "outputs": [],
   "source": [
    "for n in {01..12}\n",
    "do\n",
    "echo \"Working on simulation ${n}...\"\n",
    "cdo remapbil,r360x180 -selname,TEMP GNG595.${n}.nc GNG595_TEMP.${n}.nc\n",
    "done"
   ]
  },
  {
   "cell_type": "code",
   "execution_count": null,
   "id": "c37fec4b-2de8-40c3-bfc4-e94a8fc0b59a",
   "metadata": {},
   "outputs": [],
   "source": [
    "for n in {01..12}\n",
    "do\n",
    "echo \"Working on simulation ${n}...\"\n",
    "cdo sellonlatbox,-180,180,-89.5,89.5 GNG595_TEMP.${n}.nc regrid_GNG595_TEMP.${n}.nc\n",
    "done"
   ]
  },
  {
   "cell_type": "markdown",
   "id": "90343d33-ffc5-4aec-8bfc-56f2245ace13",
   "metadata": {},
   "source": [
    "## For SPECTRA 20 yr clim Chlorophyll"
   ]
  },
  {
   "cell_type": "code",
   "execution_count": null,
   "id": "540d79d3-e9f7-481b-a01a-de1df8a530aa",
   "metadata": {},
   "outputs": [],
   "source": [
    "for n in {01..12};\n",
    "do\n",
    "echo \"Working on simulation ${n}...\"\n",
    "ncatted -a coordinates,diat1Chl,c,c,\"TLONG TLAT\" GNG595_clim_1990-2009_${n}.nc\n",
    "ncatted -a coordinates,diat2Chl,c,c,\"TLONG TLAT\" GNG595_clim_1990-2009_${n}.nc\n",
    "ncatted -a coordinates,diat3Chl,c,c,\"TLONG TLAT\" GNG595_clim_1990-2009_${n}.nc\n",
    "ncatted -a coordinates,diazChl,c,c,\"TLONG TLAT\" GNG595_clim_1990-2009_${n}.nc\n",
    "ncatted -a coordinates,mp1Chl,c,c,\"TLONG TLAT\" GNG595_clim_1990-2009_${n}.nc\n",
    "ncatted -a coordinates,mp2Chl,c,c,\"TLONG TLAT\" GNG595_clim_1990-2009_${n}.nc\n",
    "ncatted -a coordinates,mp3Chl,c,c,\"TLONG TLAT\" GNG595_clim_1990-2009_-2009_${n}.nc\n",
    "ncatted -a coordinates,mp4Chl,c,c,\"TLONG TLAT\" GNG595_clim_1990-2009_-2009_${n}.nc\n",
    "ncatted -a coordinates,ppChl,c,c,\"TLONG TLAT\" GNG595_clim_1990-2009_${n}.nc\n",
    "ncatted -a coordinates,ECOSYS_IFRAC,c,c,\"TLONG TLAT\" GNG595_clim_1990-2009_${n}.nc\n",
    "done"
   ]
  },
  {
   "cell_type": "code",
   "execution_count": null,
   "id": "036ca4bb-7f59-4ff1-b164-b1849a899714",
   "metadata": {},
   "outputs": [],
   "source": [
    "for n in {01..12};\n",
    "do\n",
    "echo \"Working on simulation ${n}...\"\n",
    "cdo remapbil,r360x180 -selname,diat1Chl GNG595_clim_1990-2009_${n}.nc GNG595_clim_1990-2009_diat1Chl.${n}.nc\n",
    "cdo remapbil,r360x180 -selname,diat2Chl GNG595_clim_1990-2009_${n}.nc GNG595_clim_1990-2009_diat2Chl.${n}.nc\n",
    "cdo remapbil,r360x180 -selname,diat3Chl GNG595_clim_1990-2009_${n}.nc GNG595_clim_1990-2009_diat3Chl.${n}.nc\n",
    "cdo remapbil,r360x180 -selname,diazChl GNG595_clim_1990-2009_${n}.nc GNG595_clim_1990-2009_diazChl.${n}.nc\n",
    "cdo remapbil,r360x180 -selname,mp1Chl GNG595_clim_1990-2009_${n}.nc GNG595_clim_1990-2009_mp1Chl.${n}.nc\n",
    "cdo remapbil,r360x180 -selname,mp2Chl GNG595_clim_1990-2009_${n}.nc GNG595_clim_1990-2009_mp2Chl.${n}.nc\n",
    "cdo remapbil,r360x180 -selname,mp3Chl GNG595_clim_1990-2009_${n}.nc GNG595_clim_1990-2009_mp3Chl.${n}.nc\n",
    "cdo remapbil,r360x180 -selname,mp4Chl GNG595_clim_1990-2009_${n}.nc GNG595_clim_1990-2009_mp4Chl.${n}.nc\n",
    "cdo remapbil,r360x180 -selname,ppChl GNG595_clim_1990-2009_${n}.nc GNG595_clim_1990-2009_ppChl.${n}.nc\n",
    "cdo remapbil,r360x180 -selname,ECOSYS_IFRAC GNG595_clim_1990-2009_${n}.nc GNG595_clim_1990-2009_ECOSYS_IFRAC.${n}.nc\n",
    "done"
   ]
  },
  {
   "cell_type": "code",
   "execution_count": null,
   "id": "5efcd4fe-4f16-4a19-b183-49e89c62a592",
   "metadata": {},
   "outputs": [],
   "source": [
    "for n in {01..12};\n",
    "do\n",
    "echo \"Working on simulation ${n}...\"\n",
    "cdo sellonlatbox,-180,180,-89.5,89.5 SPECTRA_diat1Chl.${n}.nc regrid_GNG595_clim_1990-2009_diat1Chl.${n}.nc\n",
    "cdo sellonlatbox,-180,180,-89.5,89.5 SPECTRA_diat2Chl.${n}.nc regrid_GNG595_clim_1990-2009_diat2Chl.${n}.nc\n",
    "cdo sellonlatbox,-180,180,-89.5,89.5 SPECTRA_diat3Chl.${n}.nc regrid_GNG595_clim_1990-2009_diat3Chl.${n}.nc\n",
    "cdo sellonlatbox,-180,180,-89.5,89.5 SPECTRA_diazChl.${n}.nc regrid_GNG595_clim_1990-2009_diazChl.${n}.nc\n",
    "cdo sellonlatbox,-180,180,-89.5,89.5 SPECTRA_mp1Chl.${n}.nc regrid_GNG595_clim_1990-2009_mp1Chl.${n}.nc\n",
    "cdo sellonlatbox,-180,180,-89.5,89.5 SPECTRA_mp2Chl.${n}.nc regrid_GNG595_clim_1990-2009_mp2Chl.${n}.nc\n",
    "cdo sellonlatbox,-180,180,-89.5,89.5 SPECTRA_mp3Chl.${n}.nc regrid_GNG595_clim_1990-2009_mp3Chl.${n}.nc\n",
    "cdo sellonlatbox,-180,180,-89.5,89.5 SPECTRA_mp4Chl.${n}.nc regrid_GNG595_clim_1990-2009_mp4Chl.${n}.nc\n",
    "cdo sellonlatbox,-180,180,-89.5,89.5 SPECTRA_ppChl.${n}.nc regrid_GNG595_clim_1990-2009_ppChl.${n}.nc\n",
    "cdo sellonlatbox,-180,180,-89.5,89.5 SPECTRA_ECOSYS_IFRAC.${n}.nc regrid_GNG595_clim_1990-2009_ECOSYS_IFRAC.${n}.nc\n",
    "done"
   ]
  },
  {
   "cell_type": "code",
   "execution_count": null,
   "id": "b96ec1e5-9774-4739-a557-d0f1238b02b9",
   "metadata": {},
   "outputs": [],
   "source": []
  },
  {
   "cell_type": "code",
   "execution_count": null,
   "id": "fd727a70-3dd4-417f-88a2-4016cdc4532d",
   "metadata": {},
   "outputs": [],
   "source": []
  },
  {
   "cell_type": "code",
   "execution_count": null,
   "id": "3c672e36-60d5-42ac-b243-f3f9001321c1",
   "metadata": {},
   "outputs": [],
   "source": []
  },
  {
   "cell_type": "markdown",
   "id": "b83632c2-f57d-42f6-8bff-3c142c777ba6",
   "metadata": {},
   "source": [
    "## For Monthly Chlorophyll "
   ]
  },
  {
   "cell_type": "code",
   "execution_count": null,
   "id": "0432fd88-fe9f-4836-8a3d-53235ac040ff",
   "metadata": {},
   "outputs": [],
   "source": [
    "for n in {01..12}\n",
    "do\n",
    "echo \"Working on simulation ${n}...\"\n",
    "ncatted -a coordinates,diat1Chl,c,c,\"TLONG TLAT\" GNG595.${n}.nc\n",
    "ncatted -a coordinates,diat2Chl,c,c,\"TLONG TLAT\" GNG595.${n}.nc\n",
    "ncatted -a coordinates,diat3Chl,c,c,\"TLONG TLAT\" GNG595.${n}.nc\n",
    "ncatted -a coordinates,diazChl,c,c,\"TLONG TLAT\" GNG595.${n}.nc\n",
    "ncatted -a coordinates,mp1Chl,c,c,\"TLONG TLAT\" GNG595.${n}.nc\n",
    "ncatted -a coordinates,mp2Chl,c,c,\"TLONG TLAT\" GNG595.${n}.nc\n",
    "ncatted -a coordinates,mp3Chl,c,c,\"TLONG TLAT\" GNG595.${n}.nc\n",
    "ncatted -a coordinates,mp4Chl,c,c,\"TLONG TLAT\" GNG595.${n}.nc\n",
    "ncatted -a coordinates,ppChl,c,c,\"TLONG TLAT\" GNG595.${n}.nc\n",
    "ncatted -a coordinates,ECOSYS_IFRAC,c,c,\"TLONG TLAT\" GNG595.${n}.nc\n",
    "ncatted -a coordinates,PAR_avg,c,c,\"TLONG TLAT\" GNG595.${n}.nc\n",
    "done"
   ]
  },
  {
   "cell_type": "code",
   "execution_count": null,
   "id": "e7e01f41-4cc0-4269-8280-b7d60ddc6907",
   "metadata": {},
   "outputs": [],
   "source": [
    "for n in {01..12}\n",
    "do\n",
    "echo \"Working on simulation ${n}...\"\n",
    "cdo remapbil,r360x180 -selname,diat1Chl GNG595.${n}.nc GNG595_diat1Chl.${n}.nc\n",
    "cdo remapbil,r360x180 -selname,diat2Chl GNG595.${n}.nc GNG595_diat2Chl.${n}.nc\n",
    "cdo remapbil,r360x180 -selname,diat3Chl GNG595.${n}.nc GNG595_diat3Chl.${n}.nc\n",
    "cdo remapbil,r360x180 -selname,diazChl GNG595.${n}.nc GNG595_diazChl.${n}.nc\n",
    "cdo remapbil,r360x180 -selname,mp1Chl GNG595.${n}.nc GNG595_mp1Chl.${n}.nc\n",
    "cdo remapbil,r360x180 -selname,mp2Chl GNG595.${n}.nc GNG595_mp2Chl.${n}.nc\n",
    "cdo remapbil,r360x180 -selname,mp3Chl GNG595.${n}.nc GNG595_mp3Chl.${n}.nc\n",
    "cdo remapbil,r360x180 -selname,mp4Chl GNG595.${n}.nc GNG595_mp4Chl.${n}.nc\n",
    "cdo remapbil,r360x180 -selname,ppChl GNG595.${n}.nc GNG595_ppChl.${n}.nc\n",
    "cdo remapbil,r360x180 -selname,ECOSYS_IFRAC GNG595.${n}.nc GNG595_ECOSYS_IFRAC.${n}.nc\n",
    "cdo remapbil,r360x180 -selname,PAR_avg GNG595.${n}.nc GNG595_PAR_avg.${n}.nc\n",
    "done"
   ]
  },
  {
   "cell_type": "code",
   "execution_count": null,
   "id": "3ba416ba-e832-4872-abec-7a72d5604a53",
   "metadata": {},
   "outputs": [],
   "source": [
    "for n in {01..12}\n",
    "do\n",
    "echo \"Working on simulation ${n}...\"\n",
    "cdo sellonlatbox,-180,180,-89.5,89.5 GNG595_diat1Chl.${n}.nc regrid_GNG595_diat1Chl.${n}.nc\n",
    "cdo sellonlatbox,-180,180,-89.5,89.5 GNG595_diat2Chl.${n}.nc regrid_GNG595_diat2Chl.${n}.nc\n",
    "cdo sellonlatbox,-180,180,-89.5,89.5 GNG595_diat3Chl.${n}.nc regrid_GNG595_diat3Chl.${n}.nc\n",
    "cdo sellonlatbox,-180,180,-89.5,89.5 GNG595_diazChl.${n}.nc regrid_GNG595_diazChl.${n}.nc\n",
    "cdo sellonlatbox,-180,180,-89.5,89.5 GNG595_mp1Chl.${n}.nc regrid_GNG595_mp1Chl.${n}.nc\n",
    "cdo sellonlatbox,-180,180,-89.5,89.5 GNG595_mp2Chl.${n}.nc regrid_GNG595_mp2Chl.${n}.nc\n",
    "cdo sellonlatbox,-180,180,-89.5,89.5 GNG595_mp3Chl.${n}.nc regrid_GNG595_mp3Chl.${n}.nc\n",
    "cdo sellonlatbox,-180,180,-89.5,89.5 GNG595_mp4Chl.${n}.nc regrid_GNG595_mp4Chl.${n}.nc\n",
    "cdo sellonlatbox,-180,180,-89.5,89.5 GNG595_ppChl.${n}.nc regrid_GNG595_ppChl.${n}.nc\n",
    "cdo sellonlatbox,-180,180,-89.5,89.5 GNG595_ECOSYS_IFRAC.${n}.nc regrid_GNG595_ECOSYS_IFRAC.${n}.nc\n",
    "cdo sellonlatbox,-180,180,-89.5,89.5 GNG595_PAR_avg.${n}.nc regrid_GNG595_PAR_avg.${n}.nc\n",
    "done"
   ]
  },
  {
   "cell_type": "markdown",
   "id": "2521392f-5e77-423d-bf8f-d7b7b7b8745e",
   "metadata": {},
   "source": [
    "## Try to Remap MODIS Aqua "
   ]
  },
  {
   "cell_type": "code",
   "execution_count": null,
   "id": "bb214854-613c-43c1-9da3-89fa2d9facd0",
   "metadata": {},
   "outputs": [],
   "source": [
    "% where the original file is \n",
    "cd /glade/work/jluo/obs/MODIS_Aqua/annual_composite_regridded\n",
    "\n",
    "% copy output to my scratch file \n",
    "cp *.L3m_YR_CHL_chl_ocx_gx1v6.nc /glade/scratch/gabyn/MODIS_Aqua/annual_composite_remap_1degree\n",
    "\n",
    "% go to my scratch directory \n",
    "cd /glade/scratch/gabyn/MODIS_Aqua/annual_composite_remap_1degree\n",
    "\n",
    "% rename all of the files to make them easier. \n",
    "for n in {2002..2017}\n",
    "do\n",
    "    echo \"Working on simulation ${n}...\"\n",
    "   mv A${n}*.L3m_YR_CHL_chl_ocx_gx1v6.nc Chl.${n}.nc\n",
    "done"
   ]
  },
  {
   "cell_type": "code",
   "execution_count": null,
   "id": "3e157389-792e-4119-ab72-cef56fe6eec5",
   "metadata": {},
   "outputs": [],
   "source": [
    "for n in {2002..2017}\n",
    "do\n",
    "echo \"Working on simulation ${n}...\"\n",
    "ncatted -a coordinates,chl_ocx,c,c,\"TLONG TLAT\" Chl.${n}.nc\n",
    "done"
   ]
  },
  {
   "cell_type": "code",
   "execution_count": null,
   "id": "9c12fe42-0983-4455-9602-028b1c9752c5",
   "metadata": {},
   "outputs": [],
   "source": [
    "for n in {2002..2017}\n",
    "do\n",
    "echo \"Working on simulation ${n}...\"\n",
    "cdo remapbil,r360x180 -selname,chl_ocx Chl.${n}.nc chl_ocx_MODIS.${n}.nc\n",
    "done"
   ]
  },
  {
   "cell_type": "code",
   "execution_count": null,
   "id": "a18609d9-0ba4-4012-be6d-7e8bcc6bb172",
   "metadata": {},
   "outputs": [],
   "source": [
    "for n in {2002..2017}\n",
    "do\n",
    "echo \"Working on simulation ${n}...\"\n",
    "cdo sellonlatbox,-180,180,-89.5,89.5 chl_ocx_MODIS.${n}.nc regrid_chl_ocx_MODIS.${n}.nc\n",
    "done"
   ]
  },
  {
   "cell_type": "markdown",
   "id": "3172ae88-cfa9-4b83-aa03-a0b66ef46e6b",
   "metadata": {},
   "source": [
    "## Renaming the SeaWiFS files: \n",
    "    * S20100012010031 = 2010, 1\n",
    "    * S20100322010059 = 2010, 2\n",
    "    * S20100602010090 = 2010, 3\n",
    "    * S20100912010120 = 2010, 4\n",
    "    * S20101212010151 = 2010, 5\n",
    "    * S20101522010181 = 2010, 6\n",
    "    * S20101822010212 = 2010, 7\n",
    "    * S20102132010243 = 2010, 8\n",
    "    * S20102442010273 = 2010, 9\n",
    "    * S20102742010304 = 2010, 10\n",
    "    * S20103052010334 = 2010, 11\n",
    "    * S20103352010265 = 2010, 12"
   ]
  },
  {
   "cell_type": "code",
   "execution_count": null,
   "id": "d00dc8c7-1a97-40ad-9dc4-81ebbd30dcd1",
   "metadata": {},
   "outputs": [],
   "source": [
    "## Rename files \n",
    "for n in {1997..2010}\n",
    "do\n",
    "    echo \"Working on simulation ${n}...\"\n",
    "    mv S${n}*${n}03*.L3m_MO_CHL_chl_ocx_9km.nc 01_Chl_${n}.nc\n",
    "    mv S${n}*${n}05*.L3m_MO_CHL_chl_ocx_9km.nc 02_Chl_${n}.nc\n",
    "    mv S${n}*${n}09*.L3m_MO_CHL_chl_ocx_9km.nc 03_Chl_${n}.nc\n",
    "    mv S${n}*${n}12*.L3m_MO_CHL_chl_ocx_9km.nc 04_Chl_${n}.nc\n",
    "    mv S${n}*${n}15*.L3m_MO_CHL_chl_ocx_9km.nc 05_Chl_${n}.nc\n",
    "    mv S${n}*${n}18*.L3m_MO_CHL_chl_ocx_9km.nc 06_Chl_${n}.nc\n",
    "    mv S${n}*${n}21*.L3m_MO_CHL_chl_ocx_9km.nc 07_Chl_${n}.nc\n",
    "    mv S${n}*${n}24*.L3m_MO_CHL_chl_ocx_9km.nc 08_Chl_${n}.nc\n",
    "    mv S${n}*${n}27*.L3m_MO_CHL_chl_ocx_9km.nc 09_Chl_${n}.nc\n",
    "    mv S${n}*${n}30*.L3m_MO_CHL_chl_ocx_9km.nc 10_Chl_${n}.nc\n",
    "    mv S${n}*${n}33*.L3m_MO_CHL_chl_ocx_9km.nc 11_Chl_${n}.nc\n",
    "    mv S${n}*${n}36*.L3m_MO_CHL_chl_ocx_9km.nc 12_Chl_${n}.nc\n",
    "done"
   ]
  },
  {
   "cell_type": "markdown",
   "id": "229f3da7-8394-4c72-80e6-6d13009c8927",
   "metadata": {},
   "source": [
    "## Remapp monthly SeaWifs"
   ]
  },
  {
   "cell_type": "code",
   "execution_count": null,
   "id": "6dea5231-8381-4406-b92a-8745a82d54ae",
   "metadata": {},
   "outputs": [],
   "source": [
    "for n in {01..12}\n",
    "do for m in {1997..2010}\n",
    "do echo \"Working on simulation ${n} & ${m}...\"\n",
    "ncatted -a coordinates,chl_ocx,c,c,\"lon lat\" ${n}_Chl_${m}.nc\n",
    "done\n",
    "done\n",
    "\n",
    "for n in {01..12}\n",
    "do for m in {1997..2010}\n",
    "do echo \"Working on simulation ${n}...\"\n",
    "cdo remapbil,r360x180 -selname,chl_ocx ${n}_Chl_${m}.nc chl_ocx_SeaWiFS_${m}.${n}.nc\n",
    "done\n",
    "done\n",
    "\n",
    "for n in {01..12}\n",
    "do for m in {1997..2010}\n",
    "do echo \"Working on simulation ${n}...\"\n",
    "cdo sellonlatbox,-180,180,-89.5,89.5 chl_ocx_SeaWiFS_${m}.${n}.nc regrid_chl_ocx_SeaWiFS_${m}.${n}.nc\n",
    "done\n",
    "done"
   ]
  },
  {
   "cell_type": "code",
   "execution_count": null,
   "id": "4b1e65c6-38e7-4440-8cbd-4fa80895e6fa",
   "metadata": {},
   "outputs": [],
   "source": [
    "for file in clim*.nc\n",
    "do \n",
    "ncdump -h $file\n",
    "done \n"
   ]
  }
 ],
 "metadata": {
  "kernelspec": {
   "display_name": "Python [conda env:miniconda3]",
   "language": "python",
   "name": "conda-env-miniconda3-py"
  },
  "language_info": {
   "codemirror_mode": {
    "name": "ipython",
    "version": 3
   },
   "file_extension": ".py",
   "mimetype": "text/x-python",
   "name": "python",
   "nbconvert_exporter": "python",
   "pygments_lexer": "ipython3",
   "version": "3.7.12"
  }
 },
 "nbformat": 4,
 "nbformat_minor": 5
}
