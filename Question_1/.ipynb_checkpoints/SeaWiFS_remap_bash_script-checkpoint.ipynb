{
 "cells": [
  {
   "cell_type": "markdown",
   "id": "df4c3ee4-227e-4181-8a40-09358d1a750d",
   "metadata": {},
   "source": [
    "## Renaming the SeaWiFS files: \n",
    "    * S20100012010031 = 2010, 1\n",
    "    * S20100322010059 = 2010, 2\n",
    "    * S20100602010090 = 2010, 3\n",
    "    * S20100912010120 = 2010, 4\n",
    "    * S20101212010151 = 2010, 5\n",
    "    * S20101522010181 = 2010, 6\n",
    "    * S20101822010212 = 2010, 7\n",
    "    * S20102132010243 = 2010, 8\n",
    "    * S20102442010273 = 2010, 9\n",
    "    * S20102742010304 = 2010, 10\n",
    "    * S20103052010334 = 2010, 11\n",
    "    * S20103352010265 = 2010, 12"
   ]
  }
 ],
 "metadata": {
  "kernelspec": {
   "display_name": "Python 3 (ipykernel)",
   "language": "python",
   "name": "python3"
  },
  "language_info": {
   "codemirror_mode": {
    "name": "ipython",
    "version": 3
   },
   "file_extension": ".py",
   "mimetype": "text/x-python",
   "name": "python",
   "nbconvert_exporter": "python",
   "pygments_lexer": "ipython3",
   "version": "3.9.12"
  }
 },
 "nbformat": 4,
 "nbformat_minor": 5
}
