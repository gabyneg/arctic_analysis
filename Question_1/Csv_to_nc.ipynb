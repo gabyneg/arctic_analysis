{
 "cells": [
  {
   "cell_type": "markdown",
   "id": "b6377da7-1e12-47be-a913-7848d364d7ba",
   "metadata": {},
   "source": [
    "## Convert the COPEPOD data from csv to nc files. "
   ]
  },
  {
   "cell_type": "code",
   "execution_count": null,
   "id": "6b1828ad-7146-4445-9552-2ae414fc0337",
   "metadata": {},
   "outputs": [],
   "source": [
    "import xarray as xr\n",
    "import pandas as pd\n",
    "from glob import glob\n",
    "import numpy as np"
   ]
  },
  {
   "cell_type": "code",
   "execution_count": null,
   "id": "1228b1eb-0f4e-43a1-8f75-05a2eed04140",
   "metadata": {},
   "outputs": [],
   "source": [
    "files = glob('data/*.csv')\n",
    "files = sorted(files)"
   ]
  },
  {
   "cell_type": "code",
   "execution_count": null,
   "id": "3963215b-0574-49e3-9508-2d940ca558d3",
   "metadata": {},
   "outputs": [],
   "source": [
    "doy = {'01': 15., '02': 45., '03': 74., '04': 104., '05': 135., '06': 166.,\n",
    "    '07': 196., '08': 227., '09': 258., '10': 288., '11': 319., '12': 349.,\n",
    "    '13': 90., '14': 181., '15': 273., '16': 365., '00': 0.}"
   ]
  },
  {
   "cell_type": "code",
   "execution_count": null,
   "id": "f249b0a4-1ffe-475a-abfd-3cf7d780be21",
   "metadata": {},
   "outputs": [],
   "source": [
    "lon = np.arange(-180+0.125,180.,0.25)\n",
    "lat = np.arange(-90+0.125,90.,0.25)\n",
    "coords = {'lat': np.array(list(lat) * len(lon)), 'lon': np.repeat(lon, len(lat))}"
   ]
  },
  {
   "cell_type": "code",
   "execution_count": null,
   "id": "969158ff-c86a-43cb-98dc-f9fa287cffdd",
   "metadata": {},
   "outputs": [],
   "source": [
    "df = pd.DataFrame.from_dict(coords)"
   ]
  },
  {
   "cell_type": "code",
   "execution_count": null,
   "id": "e2dd63c6-2225-4194-b261-4fd94a9fdb1e",
   "metadata": {},
   "outputs": [],
   "source": [
    "for f in files:\n",
    "    print 'Processing file %s'%f\n",
    "    \n",
    "    d = pd.read_csv(f).iloc[:,0:4]\n",
    "    d.columns = ['lon', 'lat', 'n', 'carbon_biomass']\n",
    "\n",
    "    d = pd.merge(df, d.reset_index(), how='outer')\n",
    "\n",
    "    d['time'] = doy[f[26:28]]\n",
    "    d = d.set_index(['time', 'lat', 'lon'])\n",
    "    d = d.loc[:,['n', 'carbon_biomass']]\n",
    "\n",
    "    xd = xr.Dataset.from_dataframe(d)\n",
    "    xd['n'].attrs={'units': 'nan', 'long_name' : 'Number of observations'}\n",
    "    xd['carbon_biomass'].attrs={'units': 'mg-C m^-3', 'long_name': 'Total Carbon Biomass'}\n",
    "    \n",
    "    xd.to_netcdf(f.replace('.csv','.nc'))"
   ]
  },
  {
   "cell_type": "markdown",
   "id": "cce3043d-849e-46b3-bd5e-ed6337ed5b19",
   "metadata": {},
   "source": [
    "## Regrid to POP"
   ]
  },
  {
   "cell_type": "code",
   "execution_count": null,
   "id": "80639e25-351f-4ac7-b677-9d2a775dc994",
   "metadata": {},
   "outputs": [],
   "source": [
    "#! /usr/bin/env python\n",
    "#BSUB -P NCGD0011\n",
    "#BSUB -W 24:00\n",
    "#BSUB -n 1\n",
    "#BSUB -J gen_POP_grid_files\n",
    "#BSUB -o logs/regrid.%J\n",
    "#BSUB -e logs/regrid.%J\n",
    "#BSUB -q geyser\n",
    "#BSUB -N\n",
    "\n",
    "import os\n",
    "from subprocess import call\n",
    "from glob import glob\n",
    "from regrid import regrid\n",
    "import xarray as xr\n",
    "\n",
    "dst_grid = 'POP_gx1v7'\n",
    "interp_method = 'conserve'\n",
    "postfill_opt = 'none'\n",
    "prefill_opt = 'none'\n",
    "\n",
    "src_grid = 'latlon_0.25x0.25_180W'\n",
    "variables = ['carbon_biomass','n']\n",
    "\n",
    "files = sorted(glob('data/*.nc'))\n",
    "\n",
    "for file_in in files:\n",
    "\n",
    "    print file_in\n",
    "\n",
    "    for dst_grid in ['POP_gx1v7','POP_gx3v7']:\n",
    "        vert_grid_file = regrid.vert_grid_file(dst_grid)\n",
    "\n",
    "        wgtFile = regrid.wgt_file(src_grid,dst_grid,interp_method)\n",
    "        if not os.path.exists(wgtFile):\n",
    "            print('missing weight file: %s'%wgtFile)\n",
    "            exit(1)\n",
    "\n",
    "        file_out = file_in.replace('.nc','_'+dst_grid+'.nc')\n",
    "\n",
    "        print('\\t-->%s'%file_out)\n",
    "        outfile_opt = 'create'\n",
    "        for varname_in in variables:\n",
    "            varname_out = varname_in\n",
    "            print('\\t\\t%s'%varname_in)\n",
    "            ok = regrid.regrid_var(wgtFile = wgtFile,\n",
    "                                   fname_in = file_in,\n",
    "                                   varname_in = varname_in,\n",
    "                                   time_coordname = 'time',\n",
    "                                   depth_coordname = 'none',\n",
    "                                   vert_grid_file = vert_grid_file,\n",
    "                                   fname_out = file_out,\n",
    "                                   varname_out = varname_out,\n",
    "                                   src_grid = src_grid,\n",
    "                                   dst_grid = dst_grid,\n",
    "                                   postfill_opt = postfill_opt,\n",
    "                                   prefill_opt = prefill_opt,\n",
    "                                   outfile_opt = outfile_opt)\n",
    "            outfile_opt = 'append'\n",
    "        print\n"
   ]
  }
 ],
 "metadata": {
  "kernelspec": {
   "display_name": "Python [conda env:miniconda3]",
   "language": "python",
   "name": "conda-env-miniconda3-py"
  },
  "language_info": {
   "codemirror_mode": {
    "name": "ipython",
    "version": 3
   },
   "file_extension": ".py",
   "mimetype": "text/x-python",
   "name": "python",
   "nbconvert_exporter": "python",
   "pygments_lexer": "ipython3",
   "version": "3.7.12"
  }
 },
 "nbformat": 4,
 "nbformat_minor": 5
}
