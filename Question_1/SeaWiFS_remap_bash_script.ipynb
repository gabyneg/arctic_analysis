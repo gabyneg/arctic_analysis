{
 "cells": [
  {
   "cell_type": "markdown",
   "id": "df4c3ee4-227e-4181-8a40-09358d1a750d",
   "metadata": {},
   "source": [
    "## Renaming the SeaWiFS files: \n",
    "    * S20100012010031 = 2010, 1\n",
    "    * S20100322010059 = 2010, 2\n",
    "    * S20100602010090 = 2010, 3\n",
    "    * S20100912010120 = 2010, 4\n",
    "    * S20101212010151 = 2010, 5\n",
    "    * S20101522010181 = 2010, 6\n",
    "    * S20101822010212 = 2010, 7\n",
    "    * S20102132010243 = 2010, 8\n",
    "    * S20102442010273 = 2010, 9\n",
    "    * S20102742010304 = 2010, 10\n",
    "    * S20103052010334 = 2010, 11\n",
    "    * S20103352010265 = 2010, 12"
   ]
  },
  {
   "cell_type": "code",
   "execution_count": null,
   "id": "35957e15-7d26-4c30-ac52-0d247fff503b",
   "metadata": {},
   "outputs": [],
   "source": [
    "## Rename files \n",
    "for n in {1997..2010}\n",
    "do\n",
    "    echo \"Working on simulation ${n}...\"\n",
    "    mv S${n}*${n}03*.L3m_MO_CHL_chl_ocx_9km.nc 01_Chl_${n}.nc\n",
    "    mv S${n}*${n}05*.L3m_MO_CHL_chl_ocx_9km.nc 02_Chl_${n}.nc\n",
    "    mv S${n}*${n}09*.L3m_MO_CHL_chl_ocx_9km.nc 03_Chl_${n}.nc\n",
    "    mv S${n}*${n}12*.L3m_MO_CHL_chl_ocx_9km.nc 04_Chl_${n}.nc\n",
    "    mv S${n}*${n}15*.L3m_MO_CHL_chl_ocx_9km.nc 05_Chl_${n}.nc\n",
    "    mv S${n}*${n}18*.L3m_MO_CHL_chl_ocx_9km.nc 06_Chl_${n}.nc\n",
    "    mv S${n}*${n}21*.L3m_MO_CHL_chl_ocx_9km.nc 07_Chl_${n}.nc\n",
    "    mv S${n}*${n}24*.L3m_MO_CHL_chl_ocx_9km.nc 08_Chl_${n}.nc\n",
    "    mv S${n}*${n}27*.L3m_MO_CHL_chl_ocx_9km.nc 09_Chl_${n}.nc\n",
    "    mv S${n}*${n}30*.L3m_MO_CHL_chl_ocx_9km.nc 10_Chl_${n}.nc\n",
    "    mv S${n}*${n}33*.L3m_MO_CHL_chl_ocx_9km.nc 11_Chl_${n}.nc\n",
    "    mv S${n}*${n}36*.L3m_MO_CHL_chl_ocx_9km.nc 12_Chl_${n}.nc\n",
    "done"
   ]
  },
  {
   "cell_type": "code",
   "execution_count": null,
   "id": "6bf87861-86cf-4a86-bfa7-8f91b8e04cd8",
   "metadata": {},
   "outputs": [],
   "source": [
    "## Rename files \n",
    "for n in {01..12}\n",
    "do\n",
    "    echo \"Working on simulation ${n}...\"\n",
    "    mv ${n}_*.L3m_MC_CHL_chl_ocx_gx1v6.nc Chl_${n}.nc\n",
    "done\n",
    "\n",
    "for n in {01..12}\n",
    "do echo \"Working on simulation ${n} ...\"\n",
    "ncatted -a coordinates,chl_ocx,c,c,\"lon lat\" Chl_${n}.nc\n",
    "done\n",
    "\n",
    "for n in {01..12}\n",
    "do echo \"Working on simulation ${n}...\"\n",
    "cdo remapbil,r360x180 -selname,chl_ocx Chl_${n}.nc chl_ocx_SeaWiFS_${n}.nc\n",
    "done\n",
    "\n",
    "for n in {01..12}\n",
    "do echo \"Working on simulation ${n}...\"\n",
    "cdo sellonlatbox,-180,180,-89.5,89.5 chl_ocx_SeaWiFS_${n}.nc regrid_chl_ocx_SeaWiFS_${n}.nc\n",
    "done"
   ]
  },
  {
   "cell_type": "code",
   "execution_count": null,
   "id": "404c2375-e513-4267-a4e0-d3b5f7e1a300",
   "metadata": {},
   "outputs": [],
   "source": [
    "module load cdo\n",
    "module load nco "
   ]
  },
  {
   "cell_type": "code",
   "execution_count": null,
   "id": "b53f6eb3-142b-461b-aea6-9af777df4afb",
   "metadata": {},
   "outputs": [],
   "source": [
    "for n in {01..12}\n",
    "do for m in {1997..2010}\n",
    "do echo \"Working on simulation ${n} & ${m}...\"\n",
    "ncatted -a coordinates,chl_ocx,c,c,\"lon lat\" ${n}_Chl_${m}.nc\n",
    "done\n",
    "done\n",
    "\n",
    "for n in {01..12}\n",
    "do for m in {1997..2010}\n",
    "do echo \"Working on simulation ${n}...\"\n",
    "cdo remapbil,r360x180 -selname,chl_ocx ${n}_Chl_${m}.nc chl_ocx_SeaWiFS_${m}.${n}.nc\n",
    "done\n",
    "done\n",
    "\n",
    "for n in {01..12}\n",
    "do for m in {1997..2010}\n",
    "do echo \"Working on simulation ${n}...\"\n",
    "cdo sellonlatbox,-180,180,-89.5,89.5 chl_ocx_SeaWiFS_${m}.${n}.nc regrid_chl_ocx_SeaWiFS_${m}.${n}.nc\n",
    "done\n",
    "done"
   ]
  },
  {
   "cell_type": "markdown",
   "id": "a777424d-6368-4d5f-9569-7cc20f580f75",
   "metadata": {},
   "source": [
    "## Loop to ncdump through files "
   ]
  },
  {
   "cell_type": "code",
   "execution_count": null,
   "id": "b88f1a9f-b2f7-467b-a916-8c72000ae5b0",
   "metadata": {},
   "outputs": [],
   "source": [
    "for file in clim*.nc\n",
    "do \n",
    "ncdump -h $file\n",
    "done \n"
   ]
  }
 ],
 "metadata": {
  "kernelspec": {
   "display_name": "Python 3 (ipykernel)",
   "language": "python",
   "name": "python3"
  },
  "language_info": {
   "codemirror_mode": {
    "name": "ipython",
    "version": 3
   },
   "file_extension": ".py",
   "mimetype": "text/x-python",
   "name": "python",
   "nbconvert_exporter": "python",
   "pygments_lexer": "ipython3",
   "version": "3.9.12"
  }
 },
 "nbformat": 4,
 "nbformat_minor": 5
}
