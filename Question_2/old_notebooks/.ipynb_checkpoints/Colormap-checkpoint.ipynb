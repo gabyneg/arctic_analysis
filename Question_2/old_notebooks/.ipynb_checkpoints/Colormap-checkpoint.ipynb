{
 "cells": [
  {
   "cell_type": "markdown",
   "metadata": {},
   "source": [
    "## create a colorbar using linearSegementedColorbar"
   ]
  },
  {
   "cell_type": "code",
   "execution_count": null,
   "metadata": {},
   "outputs": [],
   "source": [
    "# this creates a colorbar with three colors, yellow, blue, and green\n",
    "from matplotlib.colors import LinearSegmentedColormap\n",
    "colors = [(0.8,0.8,0.1),(0.1,.5,.9),(.3,.6,.144)]\n",
    "\n",
    "x = np.arange(0, np.pi, 0.1)\n",
    "y = np.arange(0, 2 * np.pi, 0.1)\n",
    "X, Y = np.meshgrid(x, y)\n",
    "Z = np.cos(X) * np.sin(Y) * 10\n",
    "\n",
    "n_bins = [3, 6, 10, 100]  # Discretizes the interpolation into bins\n",
    "cmap_name = 'my_list'\n",
    "fig, axs = plt.subplots(2, 2, figsize=(6, 9))\n",
    "fig.subplots_adjust(left=0.02, bottom=0.06, right=0.95, top=0.94, wspace=0.05)\n",
    "for n_bin, ax in zip(n_bins, axs.ravel()):\n",
    "    # Create the colormap\n",
    "    cm = LinearSegmentedColormap.from_list(\n",
    "        cmap_name, colors, N=n_bin)\n",
    "    # Fewer bins will result in \"coarser\" colomap interpolation\n",
    "    im = ax.imshow(Z, interpolation='nearest', origin='lower', cmap=cm)\n",
    "    ax.set_title(\"N bins: %s\" % n_bin)\n",
    "    fig.colorbar(im, ax=ax)\n"
   ]
  }
 ],
 "metadata": {
  "kernelspec": {
   "display_name": "Python [conda env:miniconda3]",
   "language": "python",
   "name": "conda-env-miniconda3-py"
  },
  "language_info": {
   "codemirror_mode": {
    "name": "ipython",
    "version": 3
   },
   "file_extension": ".py",
   "mimetype": "text/x-python",
   "name": "python",
   "nbconvert_exporter": "python",
   "pygments_lexer": "ipython3",
   "version": "3.7.3"
  }
 },
 "nbformat": 4,
 "nbformat_minor": 4
}
