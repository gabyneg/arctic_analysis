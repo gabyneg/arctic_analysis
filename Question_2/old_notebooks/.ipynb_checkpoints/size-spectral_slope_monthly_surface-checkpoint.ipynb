{
 "cells": [
  {
   "cell_type": "markdown",
   "metadata": {},
   "source": [
    "## Monthly climatology of abundance vs volume slopes for \n",
    " * Only Phytoplankton "
   ]
  },
  {
   "cell_type": "code",
   "execution_count": 102,
   "metadata": {},
   "outputs": [],
   "source": [
    "%matplotlib inline\n",
    "import warnings\n",
    "warnings.simplefilter(\"ignore\") # Silence warnings\n",
    "import hvplot.xarray\n",
    "import xarray as xr\n",
    "import cartopy.crs as ccrs\n",
    "\n",
    "import geoviews as gv\n",
    "import holoviews as hv\n",
    "import numpy as np\n",
    "import math\n",
    "from matplotlib.pyplot import figure\n",
    "\n",
    "# MatPlotlib\n",
    "import matplotlib.pyplot as plt\n",
    "from matplotlib import pylab\n",
    "\n",
    "# Scientific libraries\n",
    "from numpy import arange,array,ones\n",
    "from scipy import stats\n",
    "\n",
    "import seaborn as sns\n",
    "import scipy.io as sio\n",
    "\n",
    "import numpy.ma as ma\n",
    "from netCDF4 import Dataset as NetCDFFile\n",
    "import glob\n",
    "import pylab \n",
    "from copy import deepcopy\n",
    "import pandas as pd"
   ]
  },
  {
   "cell_type": "code",
   "execution_count": 103,
   "metadata": {},
   "outputs": [],
   "source": [
    "import re\n",
    "numbers = re.compile(r'(\\d+)')\n",
    "def numericalSort(value):\n",
    "    parts = numbers.split(value)\n",
    "    parts[1::2] = map(int, parts[1::2])\n",
    "    return parts"
   ]
  },
  {
   "cell_type": "code",
   "execution_count": 104,
   "metadata": {},
   "outputs": [],
   "source": [
    "def adjust_pop_grid(tlon,tlat,field):\n",
    "    nj = tlon.shape[0]\n",
    "    ni = tlon.shape[1]\n",
    "    xL = int(ni/2 - 1)\n",
    "    xR = int(xL + ni)\n",
    "\n",
    "    tlon = np.where(np.greater_equal(tlon,np.min(tlon[:,0])),tlon-360.,tlon)\n",
    "    lon  = np.concatenate((tlon,tlon+360.),1)\n",
    "    lon = lon[:,xL:xR]\n",
    "\n",
    "    if ni == 320:\n",
    "        lon[367:-3,0] = lon[367:-3,0]+360.\n",
    "    lon = lon - 360.\n",
    "    lon = np.hstack((lon,lon[:,0:1]+360.))\n",
    "    if ni == 320:\n",
    "        lon[367:,-1] = lon[367:,-1] - 360.\n",
    "\n",
    "    #-- trick cartopy into doing the right thing:\n",
    "    #   it gets confused when the cyclic coords are identical\n",
    "    lon[:,0] = lon[:,0]-1e-8\n",
    "\n",
    "    #-- periodicity\n",
    "    lat  = np.concatenate((tlat,tlat),1)\n",
    "    lat = lat[:,xL:xR]\n",
    "    lat = np.hstack((lat,lat[:,0:1]))\n",
    "\n",
    "    field = np.ma.concatenate((field,field),1)\n",
    "    field = field[:,xL:xR]\n",
    "    field = np.ma.hstack((field,field[:,0:1]))\n",
    "    return lon,lat,field"
   ]
  },
  {
   "cell_type": "markdown",
   "metadata": {},
   "source": [
    "## Input new file"
   ]
  },
  {
   "cell_type": "code",
   "execution_count": 105,
   "metadata": {},
   "outputs": [
    {
     "name": "stdout",
     "output_type": "stream",
     "text": [
      "What is the new file? (new_file)\n"
     ]
    },
    {
     "name": "stdin",
     "output_type": "stream",
     "text": [
      " test216\n"
     ]
    }
   ],
   "source": [
    "print('What is the new file? (new_file)')\n",
    "new_file = input('')"
   ]
  },
  {
   "cell_type": "code",
   "execution_count": 106,
   "metadata": {},
   "outputs": [],
   "source": [
    "## Jessica's Path \n",
    "jluo_path = '/glade/scratch/jluo/archive/g.e21.G1850ECOIAF.t62_g17.marbl0_33.'\n",
    "path_file = 'g.e21.G1850ECOIAF.t62_g17.marbl0_33.'\n",
    "\n",
    "## Gaby's Path \n",
    "gabyn_path = '/glade/scratch/gabyn/archive/g.e21.G1850ECOIAF.t62_g17.marbl0_33.'"
   ]
  },
  {
   "cell_type": "code",
   "execution_count": 107,
   "metadata": {},
   "outputs": [],
   "source": [
    "newNCDFfiles = sorted(glob.glob(''+jluo_path+new_file+'/ocn/hist/'+path_file+new_file+'.pop.h.0002-*.nc', recursive=True),\n",
    "                      key=numericalSort)"
   ]
  },
  {
   "cell_type": "code",
   "execution_count": 108,
   "metadata": {},
   "outputs": [],
   "source": [
    "new = xr.open_mfdataset(newNCDFfiles,combine='by_coords')"
   ]
  },
  {
   "cell_type": "markdown",
   "metadata": {},
   "source": [
    "## volume and mass of community\n",
    "Here we will add the values for the volume and the mass of each plankton and create sums of all of these values\n",
    "* Units for pytoplankton: \n",
    "    * $volume$ [$um^3$]\n",
    "    * $mass$ [$ug C$]\n",
    "* Units for zooplankton \n",
    "    * $volume$ [$m^3$] converted to [$um^3$] by multiplying by [$10^9$]\n",
    "    * $mass$ converted from [$g C$] to [$ug C$] by multiplying by 1000"
   ]
  },
  {
   "cell_type": "code",
   "execution_count": 109,
   "metadata": {},
   "outputs": [],
   "source": [
    "## Volume \n",
    "# units [um^3]\n",
    "pp_v = 0.195428825646897\n",
    "mp1_v = 37.6111075368976\n",
    "diaz_v = 122.786536059293\n",
    "diat1_v = 4187.92236603257\n",
    "mp2_v = 7238.41739042113\n",
    "diat2_v = 374617.983936749\n",
    "mp3_v = 1393064.17037973\n",
    "diat3_v = 33510323.645704\n",
    "mp4_v = 268101116.324664\n",
    "\n",
    "# units [mm^3] into [um^3]\n",
    "zoo1_v = 5.23598775598299E-07 * 1e9\n",
    "zoo2_v = 5.00745000930114E-05 * 1e9\n",
    "zoo3_v = 0.00478888736265629 * 1e9\n",
    "zoo4_v = 0.457986442792462 * 1e9\n",
    "zoo5_v = 43.7996482058306 * 1e9\n",
    "zoo6_v = 4188.79033024969 * 1e9\n",
    "\n",
    "phyto_vol = array([pp_v,mp1_v, diaz_v, diat1_v,mp2_v,diat2_v,mp3_v,diat3_v,mp4_v])\n",
    "zoo_vol = array([zoo1_v, zoo2_v, zoo3_v, zoo4_v, zoo5_v, zoo6_v])"
   ]
  },
  {
   "cell_type": "code",
   "execution_count": 110,
   "metadata": {},
   "outputs": [],
   "source": [
    "## Mass\n",
    "# units [ug C]\n",
    "pp_m = 4.88572064117242E-08\n",
    "mp1_m = 1.70475047067261E-05\n",
    "diaz_m = 5.49992918958176E-05\n",
    "diat1_m = 0.000181125995838518\n",
    "mp2_m = 0.000910343637769569\n",
    "diat2_m = 0.00949142840730853\n",
    "mp3_m = 0.127112682492814\n",
    "diat3_m = 0.497373183755356\n",
    "mp4_m = 17.7489393896427\n",
    "\n",
    "# units [mg C] to [ug C]\n",
    "zoo1_m = 7.86253129691093E-08 * 1000\n",
    "zoo2_m = 5.69328191250882E-06 * 1000\n",
    "zoo3_m = 0.000574466613113713 * 1000\n",
    "zoo4_m = 0.0549392584788313 * 1000\n",
    "zoo5_m = 5.25412974975864 * 1000\n",
    "zoo6_m = 502.48001505036 * 1000\n",
    "\n",
    "phyto_mass = array([pp_m,mp1_m, diaz_m, diat1_m,mp2_m,diat2_m,mp3_m,diat3_m,mp4_m])\n",
    "zoo_mass = array([zoo1_m, zoo2_m, zoo3_m, zoo4_m, zoo5_m, zoo6_m])"
   ]
  },
  {
   "cell_type": "markdown",
   "metadata": {},
   "source": [
    "# depth integrated biomass (top 150 meters)"
   ]
  },
  {
   "cell_type": "code",
   "execution_count": 111,
   "metadata": {},
   "outputs": [],
   "source": [
    "phyto_names = ['pp','mp1','diaz','diat1','mp2','diat2','mp3','diat1','mp4']\n",
    "phyto_vars = [v+'C' for v in phyto_names]\n",
    "phyto_bmss = xr.concat([new[v] for v in phyto_vars], dim='var') # units are mmol m-3\n",
    "phyto_bmss = phyto_bmss.sum(dim='z_t_150m') * 10 #integrate over depth #mmol m-2\n",
    "phyto_bmss = phyto_bmss * 12.011 *1000 # ug C m-2"
   ]
  },
  {
   "cell_type": "code",
   "execution_count": 112,
   "metadata": {},
   "outputs": [],
   "source": [
    "phyto_bmss_arctic = np.nanmean(phyto_bmss[:,:,318:384,50:300], axis=(2,3))\n",
    "phyto_bmss_globe  = np.nanmean(phyto_bmss, axis=(2,3))"
   ]
  },
  {
   "cell_type": "code",
   "execution_count": 113,
   "metadata": {},
   "outputs": [
    {
     "data": {
      "text/plain": [
       "(9, 12)"
      ]
     },
     "execution_count": 113,
     "metadata": {},
     "output_type": "execute_result"
    }
   ],
   "source": [
    "phyto_bmss_globe.shape"
   ]
  },
  {
   "cell_type": "code",
   "execution_count": 114,
   "metadata": {},
   "outputs": [],
   "source": [
    "zoo_names = ['zoo1','zoo2','zoo3','zoo4','zoo5','zoo6']\n",
    "zoo_vars = [v+'C' for v in zoo_names]\n",
    "zoo_bmss = xr.concat([new[v] for v in phyto_vars], dim='var') # units are mmol m-3\n",
    "zoo_bmss = zoo_bmss.sum(dim='z_t_150m') * 10 #integrate over depth #mmol m-2\n",
    "zoo_bmss = zoo_bmss * 12.011 *1000 # ug C m^-2"
   ]
  },
  {
   "cell_type": "markdown",
   "metadata": {},
   "source": [
    "# depth integrated abundance (top 150m)\n",
    "$$Abundance = \\frac{Biomass}{Mass}$$\n",
    "Where: \n",
    "* $biomass$ is in units of [$\\frac{\\mu gC}{m^3}$] \n",
    "* $mass$ is in [$\\mu g C$]\n",
    "    * converting the $Abundance$ into units of [$\\frac{cell}{ m^3}$]\n",
    "​\n",
    "We want unts of: \n",
    "* $\\frac{cell}{L}$ for both zooplankton and phytoplankton\n",
    "\n",
    "We want unts of: \n",
    "* $\\frac{cell}{mL}$ for both zooplankton and phytoplankton"
   ]
  },
  {
   "cell_type": "markdown",
   "metadata": {},
   "source": [
    "phyto_abu = np.zeros((9,12,384,320))\n",
    "for i in range(9):\n",
    "    phyto_abu[i,:,:,:] = phyto_bmss[i,:,:,:]/phyto_mass[i]\n",
    "    \n",
    "zoo_abu = np.zeros((6,12,384,320))\n",
    "for j in range(6):\n",
    "    zoo_abu[j,:,:,:] = zoo_bmss[j,:,:,:]/zoo_mass[j]"
   ]
  },
  {
   "cell_type": "code",
   "execution_count": 115,
   "metadata": {},
   "outputs": [],
   "source": [
    "phyto_abu_arctic = np.zeros((9,12))\n",
    "phyto_abu_globe = np.zeros((9,12))\n",
    "for i in range(9):\n",
    "    phyto_abu_arctic[i,:] = phyto_bmss_arctic[i,:]/phyto_mass[i]\n",
    "    phyto_abu_globe[i,:] = phyto_bmss_globe[i,:]/phyto_mass[i]"
   ]
  },
  {
   "cell_type": "code",
   "execution_count": 116,
   "metadata": {},
   "outputs": [
    {
     "data": {
      "text/plain": [
       "(9, 12)"
      ]
     },
     "execution_count": 116,
     "metadata": {},
     "output_type": "execute_result"
    }
   ],
   "source": [
    "phyto_abu_arctic.shape"
   ]
  },
  {
   "cell_type": "markdown",
   "metadata": {},
   "source": [
    "# log of volumes for phytoplankton, zooplankton and both. \n",
    "xp = np.log10(phyto_vol+1)\n",
    "\n",
    "# Make the zero's into NaNs \n",
    "phyto_abu[phyto_abu<0] = 0\n",
    "\n",
    "# abundance for phyto\n",
    "phyto_abu = np.log10(phyto_abu[:,:,:,:]+1)\n",
    "#yp_surface = np.log10(phy_abundance[:,:,1,:,:]+1)\n",
    "#yp_100m    = np.log10(phy_abundance[:,:,10,:,:]+1)\n",
    "\n",
    "# the size of 1,474,560\n",
    "n = 12*384*320\n",
    "\n",
    "# reshape the 4-D array to a 2-D array. \n",
    "yp_reshape = phyto_abu.reshape((9, n))\n",
    "\n",
    "# create the calculation \n",
    "yp_results = np.empty((n, 5))\n",
    "\n",
    "for i in range(n):\n",
    "    yp_results[i] = stats.linregress(xp, yp_reshape[:,i])\n",
    "    \n",
    "# reshape back to size wanted. back to 4D, but the 5 is where the slope, interecpt, etc. are. \n",
    "ypp_surface = yp_results.reshape((12,384,320, 5)) \n"
   ]
  },
  {
   "cell_type": "code",
   "execution_count": 117,
   "metadata": {},
   "outputs": [],
   "source": [
    "# log of volumes for phytoplankton, zooplankton and both. \n",
    "xp = np.log10(phyto_vol+1)\n",
    "\n",
    "# Make the zero's into NaNs \n",
    "phyto_abu_arctic[phyto_abu_arctic<0] = 0\n",
    "phyto_abu_globe[phyto_abu_globe<0] = 0\n",
    "\n",
    "# abundance for phyto\n",
    "phyto_abu_arctic = np.log10(phyto_abu_arctic[:,:]+1)\n",
    "phyto_abu_globe = np.log10(phyto_abu_globe[:,:]+1)\n",
    "\n",
    "# create the calculation \n",
    "phyto_abu_arctic_results = np.empty((12, 5))\n",
    "phyto_abu_global_results = np.empty((12, 5))\n",
    "\n",
    "for i in range(12):\n",
    "    phyto_abu_arctic_results[i] = stats.linregress(xp, phyto_abu_arctic[:,i])\n",
    "    phyto_abu_global_results[i] = stats.linregress(xp, phyto_abu_globe[:,i])\n",
    "    \n",
    "phyto_abu_arctic_results[phyto_abu_arctic_results==0]=np.nan\n",
    "phyto_abu_global_results[phyto_abu_global_results==0]=np.nan"
   ]
  },
  {
   "cell_type": "markdown",
   "metadata": {},
   "source": [
    "for i in range(n):\n",
    "    yp_results_surface[i] = stats.linregress(xp, yp_reshape_surface[:,i])\n",
    "    yp_results_100m[i] = stats.linregress(xp, yp_reshape_100m[:,i])\n",
    "    \n",
    "# reshape back to size wanted. back to 4D, but the 5 is where the slope, interecpt, etc. are. \n",
    "ypp_surface = yp_results_surface.reshape((12,180,360, 5)) \n",
    "ypp_100m = yp_results_100m.reshape((12,180,360, 5)) "
   ]
  },
  {
   "cell_type": "markdown",
   "metadata": {},
   "source": [
    "ypp_surface[ypp_surface==0]=np.nan"
   ]
  },
  {
   "cell_type": "markdown",
   "metadata": {},
   "source": [
    "## plot global average of size spectral slope"
   ]
  },
  {
   "cell_type": "markdown",
   "metadata": {},
   "source": [
    "slopes_p_globe = np.nanmean(ypp_surface[:,:,:,0], axis=(1,2))\n",
    "slopes_p_arctic = np.nanmean(ypp_surface[:,318:384,50:300,0], axis=(1,2))"
   ]
  },
  {
   "cell_type": "code",
   "execution_count": 118,
   "metadata": {},
   "outputs": [
    {
     "data": {
      "image/png": "[encoded data removed]",
      "text/plain": [
       "<Figure size 960x800 with 1 Axes>"
      ]
     },
     "metadata": {},
     "output_type": "display_data"
    }
   ],
   "source": [
    "import matplotlib\n",
    "cmap=matplotlib.cm.get_cmap('Spectral', 10)\n",
    "\n",
    "months = ('jan','feb','mar','apr','may','jun','jul','aug','sep','oct','nov','dec')\n",
    "\n",
    "fig = figure(num=None, figsize=(12, 10), dpi=80, facecolor='w', edgecolor='k')\n",
    "pylab.plot(months,phyto_abu_global_results[:,0], '-o', color=cmap(0),label='Globe')\n",
    "pylab.plot(months,phyto_abu_arctic_results[:,0], '-o', color=cmap(1),label='Arctic')\n",
    "\n",
    "pylab.legend(loc='lower right')\n",
    "pylab.ylim([-1.1,-0.6])\n",
    "pylab.ylabel('size-spectral slope', fontsize=16)\n",
    "pylab.title('top150m climatology', fontsize=16)\n",
    "pylab.show()"
   ]
  },
  {
   "cell_type": "markdown",
   "metadata": {},
   "source": [
    "## Artic Regions"
   ]
  },
  {
   "cell_type": "markdown",
   "metadata": {},
   "source": [
    "slopes_p_ao = np.nanmean(ypp_surface[:,170:384,:,0], axis=(1,2))\n",
    "slopes_p_cs = np.nanmean(ypp_surface[:,318:170,0:25,0], axis = (1,2))\n",
    "slopes_p_bs = np.nanmean(ypp_surface[:,318:170,25:55,0], axis = (1,2))\n",
    "slopes_p_ca = np.nanmean(ypp_surface[:,318:170,55:110,0], axis = (1,2))\n",
    "slopes_p_bb = np.nanmean(ypp_surface[:,318:170,110:135,0], axis = (1,2))\n",
    "slopes_p_ess = np.nanmean(ypp_surface[:,318:170,325:360,0], axis = (1,2))\n",
    "slopes_p_ls = np.nanmean(ypp_surface[:,318:170,270:325,0], axis = (1,2))\n",
    "slopes_p_ns = np.nanmean(ypp_surface[:,318:170,155:205,0], axis = (1,2))\n",
    "slopes_p_bts =np.nanmean(ypp_surface[:,318:170,205:233,0], axis = (1,2))\n",
    "slopes_p_ks = np.nanmean(ypp_surface[:,318:170,233:270,0], axis = (1,2))"
   ]
  },
  {
   "cell_type": "markdown",
   "metadata": {},
   "source": [
    "## avergae nitrate throughout the Arctic Ocean "
   ]
  },
  {
   "cell_type": "markdown",
   "metadata": {},
   "source": [
    "no3_arctic = np.nanmean(ds.NO3[:,0,149:180,:], axis =(1,2))\n",
    "no3_ns = np.nanmean(ds.NO3[:,0,149:170,155:205], axis =(1,2))"
   ]
  },
  {
   "cell_type": "markdown",
   "metadata": {},
   "source": [
    "## Slopes log(Abundance) vs log(Volume)\n",
    "### Units \n",
    "The units for the slope: \n",
    "    $\\frac{rise}{run} = \\frac{log(abundance)}{log(volume)} = \\frac{\\frac{ind}{L}}{\\mu m^3} = \\frac{\\mu m^3}{L}$"
   ]
  },
  {
   "cell_type": "markdown",
   "metadata": {},
   "source": [
    "## Plot just the slopes of the phytoplankton "
   ]
  },
  {
   "cell_type": "markdown",
   "metadata": {},
   "source": [
    "import matplotlib\n",
    "cmap=matplotlib.cm.get_cmap('Spectral', 10)\n",
    "\n",
    "months = ('jan','feb','mar','apr','may','jun','jul','aug','sep','oct','nov','dec')\n",
    "\n",
    "fig = figure(num=None, figsize=(12, 10), dpi=80, facecolor='w', edgecolor='k')\n",
    "pylab.plot(months,slopes_p_ao, '-o', color=cmap(0),label='Central Arctic')\n",
    "pylab.plot(months,slopes_p_cs, '-o',color=cmap(1),label='Chukchi Sea')\n",
    "pylab.plot(months,slopes_p_bs, '-o', color=cmap(2),label='Beaufort Sea')\n",
    "pylab.plot(months,slopes_p_ca, '-o', color=cmap(3),label='Canadian Archipelago')\n",
    "pylab.plot(months,slopes_p_bb, '-o', color=cmap(4),label='Baffin Sea')\n",
    "pylab.plot(months,slopes_p_ns, '-o', color=cmap(5),label='Nordic Sea')\n",
    "pylab.plot(months,slopes_p_bts, '-o',color=cmap(6),label='Barents Sea')\n",
    "pylab.plot(months,slopes_p_ks, '-o', color=cmap(7),label='Kara Sea')\n",
    "pylab.plot(months,slopes_p_ls, '-o', color=cmap(8),label='Laptev Sea')\n",
    "pylab.plot(months,slopes_p_ess, '-o', color=cmap(9),label='Eastern Siberian Sea')\n",
    "\n",
    "pylab.legend(loc='lower right')\n",
    "pylab.ylim([-1.1,-0.6])\n",
    "pylab.ylabel('size-spectral slope', fontsize=16)\n",
    "pylab.title('surface climatology', fontsize=16)\n",
    "pylab.show()\n",
    "\n",
    "fig.savefig('slopes_p_surface.png', dpi=300, bbox_inches='tight')"
   ]
  },
  {
   "cell_type": "markdown",
   "metadata": {},
   "source": [
    "import matplotlib.pylab as pylab\n",
    "params = {'legend.fontsize': 'x-large',\n",
    "          'figure.figsize': (12, 10),\n",
    "         'axes.labelsize': 'x-large',\n",
    "         'axes.titlesize':'x-large',\n",
    "         'xtick.labelsize':'x-large',\n",
    "         'ytick.labelsize':'x-large',\n",
    "         'font.family':'serif',\n",
    "         'font.size': 16}\n",
    "pylab.rcParams.update(params)"
   ]
  },
  {
   "cell_type": "markdown",
   "metadata": {},
   "source": [
    "import matplotlib\n",
    "cmap=matplotlib.cm.get_cmap('Spectral', 10)\n",
    "\n",
    "months = ('Jan','Feb','Mar','Apr','May','Jun','Jul','Aug','Sep','Oct','Nov','Dec')\n",
    "fig, ax1 = plt.subplots(figsize=(12, 10))\n",
    "ax1.plot(months,slopes_p_ao, '-o', color=cmap(0),label='Central Arctic')\n",
    "ax1.plot(months,slopes_p_cs, '-o',color=cmap(1),label='Chukchi Sea')\n",
    "ax1.plot(months,slopes_p_bs, '-o', color=cmap(2),label='Beaufort Sea')\n",
    "ax1.plot(months,slopes_p_ca, '-o', color=cmap(3),label='Canadian Archipelago')\n",
    "ax1.plot(months,slopes_p_bb, '-o', color=cmap(4),label='Baffin Sea')\n",
    "ax1.plot(months,slopes_p_ns, '-o', color=cmap(5),label='Nordic Sea')\n",
    "ax1.plot(months,slopes_p_bts, '-o',color=cmap(6),label='Barents Sea')\n",
    "ax1.plot(months,slopes_p_ks, '-o', color=cmap(7),label='Kara Sea')\n",
    "ax1.plot(months,slopes_p_ls, '-o', color=cmap(8),label='Laptev Sea')\n",
    "ax1.plot(months,slopes_p_ess, '-o', color=cmap(9),label='Eastern Siberian Sea')\n",
    "\n",
    "#ax1.legend(loc='lower right', fontsize=10)\n",
    "\n",
    "ax1.set_ylim([-1.1,-0.6])\n",
    "ax1.set_ylabel('size-spectral slope')\n",
    "\n",
    "ax2 = ax1.twinx()  # instantiate a second axes that shares the same x-axis\n",
    "\n",
    "ax2.set_ylabel('$NO_3$ [mmol $m^{-3}$]', color='k')\n",
    "ax2.plot(months, no3_arctic, '--', color='k')\n",
    "ax2.tick_params(axis='y', labelcolor='k')\n",
    "\n",
    "fig.tight_layout() \n",
    "fig.savefig('slopes_p_surface_w_no3.png', dpi=300, bbox_inches='tight')"
   ]
  },
  {
   "cell_type": "markdown",
   "metadata": {},
   "source": [
    "import matplotlib\n",
    "cmap=matplotlib.cm.get_cmap('Spectral', 10)\n",
    "\n",
    "months = ('Jan','Feb','Mar','Apr','May','Jun','Jul','Aug','Sep','Oct','Nov','Dec')\n",
    "fig, ax1 = plt.subplots(figsize=(12, 10))\n",
    "ax1.plot(months,slopes_p_ao, '-o', color=cmap(0),label='Central Arctic')\n",
    "ax1.plot(months,slopes_p_cs, '-o',color=cmap(1),label='Chukchi Sea')\n",
    "ax1.plot(months,slopes_p_bs, '-o', color=cmap(2),label='Beaufort Sea')\n",
    "ax1.plot(months,slopes_p_ca, '-o', color=cmap(3),label='Canadian Archipelago')\n",
    "ax1.plot(months,slopes_p_bb, '-o', color=cmap(4),label='Baffin Sea')\n",
    "ax1.plot(months,slopes_p_ns, '-o', color=cmap(5),label='Nordic Sea')\n",
    "ax1.plot(months,slopes_p_bts, '-o',color=cmap(6),label='Barents Sea')\n",
    "ax1.plot(months,slopes_p_ks, '-o', color=cmap(7),label='Kara Sea')\n",
    "ax1.plot(months,slopes_p_ls, '-o', color=cmap(8),label='Laptev Sea')\n",
    "ax1.plot(months,slopes_p_ess, '-o', color=cmap(9),label='Eastern Siberian Sea')\n",
    "\n",
    "#ax1.legend(loc='lower right', fontsize=10)\n",
    "\n",
    "ax1.set_ylim([-1.1,-0.6])\n",
    "ax1.set_ylabel('size-spectral slope')\n",
    "\n",
    "fig.savefig('slopes_p_surface.png', dpi=300, bbox_inches='tight')"
   ]
  },
  {
   "cell_type": "code",
   "execution_count": null,
   "metadata": {},
   "outputs": [],
   "source": []
  }
 ],
 "metadata": {
  "kernelspec": {
   "display_name": "Python [conda env:miniconda3-python-tutorial]",
   "language": "python",
   "name": "conda-env-miniconda3-python-tutorial-py"
  },
  "language_info": {
   "codemirror_mode": {
    "name": "ipython",
    "version": 3
   },
   "file_extension": ".py",
   "mimetype": "text/x-python",
   "name": "python",
   "nbconvert_exporter": "python",
   "pygments_lexer": "ipython3",
   "version": "3.7.3"
  }
 },
 "nbformat": 4,
 "nbformat_minor": 4
}
