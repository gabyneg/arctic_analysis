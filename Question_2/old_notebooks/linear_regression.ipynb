{
 "cells": [
  {
   "cell_type": "markdown",
   "metadata": {},
   "source": [
    "# Linear Regression \n",
    "log(abundance) vs log(volume)\n",
    "\n",
    "linear equation : $Y = aX + b$\n",
    "* $a$: Slope of the line \n",
    "* $b$: Constant(Y-intercept, where X=0)\n",
    "* $X$: Independent variable (log(volume))\n",
    "* $Y$: Dependent variable (log(abundance))"
   ]
  },
  {
   "cell_type": "code",
   "execution_count": 49,
   "metadata": {},
   "outputs": [],
   "source": [
    "import numpy as np\n",
    "import matplotlib.pyplot as plt\n",
    "import scipy.io as sio"
   ]
  },
  {
   "cell_type": "markdown",
   "metadata": {},
   "source": [
    "## Abundance"
   ]
  },
  {
   "cell_type": "code",
   "execution_count": 50,
   "metadata": {},
   "outputs": [],
   "source": [
    "abundance = sio.loadmat('plankton_abundance_zavg_z.mat')\n",
    "phy_abs = abundance['phy_ab']\n",
    "phy_abs_surf = phy_abs[:,:,1,:,:]"
   ]
  },
  {
   "cell_type": "markdown",
   "metadata": {},
   "source": [
    "## Volume"
   ]
  },
  {
   "cell_type": "code",
   "execution_count": 51,
   "metadata": {},
   "outputs": [],
   "source": [
    "# units [um^3]\n",
    "pp_v = 0.195428825646897\n",
    "mp1_v = 37.6111075368976\n",
    "diaz_v = 122.786536059293\n",
    "diat1_v = 4187.92236603257\n",
    "mp2_v = 7238.41739042113\n",
    "diat2_v = 374617.983936749\n",
    "mp3_v = 1393064.17037973\n",
    "diat3_v = 33510323.645704\n",
    "mp4_v = 268101116.324664\n",
    "\n",
    "phyto_vol = np.array([pp_v,mp1_v, diaz_v, diat1_v,mp2_v,diat2_v,mp3_v,diat3_v,mp4_v])\n",
    "log_phyto_vol = np.log10(phyto_vol+1)"
   ]
  },
  {
   "cell_type": "code",
   "execution_count": 61,
   "metadata": {},
   "outputs": [],
   "source": [
    "A = np.vstack([log_phyto_vol, np.ones(len(log_phyto_vol))]).T"
   ]
  },
  {
   "cell_type": "code",
   "execution_count": 62,
   "metadata": {},
   "outputs": [],
   "source": [
    "m, c = np.linalg.lstsq(A, np.log10(phy_abs_surf[:,0,120,120]+1), rcond=None)[0]"
   ]
  },
  {
   "cell_type": "code",
   "execution_count": 63,
   "metadata": {},
   "outputs": [
    {
     "data": {
      "text/plain": [
       "Text(4, 8, '$y=10.18+-1.08x$')"
      ]
     },
     "execution_count": 63,
     "metadata": {},
     "output_type": "execute_result"
    },
    {
     "data": {
      "image/png": "[encoded data removed]",
      "text/plain": [
       "<Figure size 432x288 with 1 Axes>"
      ]
     },
     "metadata": {
      "needs_background": "light"
     },
     "output_type": "display_data"
    }
   ],
   "source": [
    "plt.plot(log_phyto_vol, np.log10(phy_abs_surf[:,0,120,120]+1),'.')\n",
    "plt.plot(log_phyto_vol,(m*log_phyto_vol+c),'-')\n",
    "plt.text(4,8,'$y={:.2f}+{:.2f}x$'.format(c,m),size=14,color=\"orange\")"
   ]
  },
  {
   "cell_type": "code",
   "execution_count": 64,
   "metadata": {},
   "outputs": [
    {
     "data": {
      "text/plain": [
       "array([10.5399859 ,  7.70367375,  7.46068669,  7.75937346,  5.35517447,\n",
       "        4.57516084,  3.04942855,  2.62146743,  0.63167655])"
      ]
     },
     "execution_count": 64,
     "metadata": {},
     "output_type": "execute_result"
    }
   ],
   "source": [
    "np.log10(phy_abs_surf[:,0,120,120]+1)"
   ]
  },
  {
   "cell_type": "markdown",
   "metadata": {},
   "source": [
    "now try to do it the other way to see if the same result is showing "
   ]
  },
  {
   "cell_type": "code",
   "execution_count": 66,
   "metadata": {},
   "outputs": [
    {
     "data": {
      "text/plain": [
       "Text(0, 4, '$y=10.18+-1.08x$')"
      ]
     },
     "execution_count": 66,
     "metadata": {},
     "output_type": "execute_result"
    },
    {
     "data": {
      "image/png": "[encoded data removed]",
      "text/plain": [
       "<Figure size 432x288 with 1 Axes>"
      ]
     },
     "metadata": {
      "needs_background": "light"
     },
     "output_type": "display_data"
    }
   ],
   "source": [
    "# Scientific libraries\n",
    "from numpy import arange,array,ones\n",
    "from scipy import stats\n",
    "import seaborn as sns\n",
    "\n",
    "## Regression stats January\n",
    "sns.regplot(x=log_phyto_vol,y=np.log10(phy_abs_surf[:,0,120,120]+1),truncate=True)\n",
    "m, c, r_value, p_value, std_err = stats.linregress(log_phyto_vol, np.log10(phy_abs_surf[:,0,120,120]+1))\n",
    "plt.text(0,4,'$y={:.2f}+{:.2f}x$'.format(c,m),size=14,color=\"steelblue\")\n"
   ]
  },
  {
   "cell_type": "markdown",
   "metadata": {},
   "source": [
    "### using these two methods, we can see that they are the same, and giving the same answer at the same location. \n",
    "==================================================================================================================="
   ]
  },
  {
   "cell_type": "markdown",
   "metadata": {},
   "source": [
    "## Here is a way to do it individually, but it is not working! "
   ]
  },
  {
   "cell_type": "markdown",
   "metadata": {},
   "source": [
    "### $Function 1$: It is a function to determine or estimate the coefficients where x and y values are passed into this function.\n",
    "\n",
    "Steps include:\n",
    "1. Calculate n\n",
    "2. Calculate the mean of both x and y numpy array.\n",
    "3. Calculate cross-deviation and deviation: Just remember here we are calculating SS_xy and SS_xx which is Sum of Squared Errors.\n",
    "4. Calculate regression coefficients: The amount or value by which the regression line needs to be moved."
   ]
  },
  {
   "cell_type": "code",
   "execution_count": 27,
   "metadata": {},
   "outputs": [],
   "source": [
    "def estimate_coefficients(X,Y):\n",
    "    # Number of phytoplankton at every point. \n",
    "    n = np.size(X)\n",
    "    \n",
    "    # mean of x and y \n",
    "    # since we are using numpy just calling mean on numpy is sufficient. \n",
    "    mean_x, mean_y = np.mean(X), np.mean(Y)\n",
    "    \n",
    "    # calculating cross-deviation and deviation about x\n",
    "    SS_xy = np.sum(X*Y - n*mean_y*mean_x)\n",
    "    SS_xx = np.sum(X*X - n*mean_x*mean_x)\n",
    "    \n",
    "    # calculating regression coefficients \n",
    "    b_1 = SS_xy /SS_xx\n",
    "    b_0 = mean_y - b_1*mean_x\n",
    "    \n",
    "    return (b_0, b_1)"
   ]
  },
  {
   "cell_type": "markdown",
   "metadata": {},
   "source": [
    "## $Function2:$ It is a function to plot the graph based on calculated values\n",
    "\n",
    "Steps include:\n",
    "1. Plot the points: “plt.scatter” plots the points on the graph where\n",
    "    * “x and y” are the locations of the points on the graph\n",
    "    * “color” is the colour of the plotted points change it to red or green or orange and play around for more possible colours click here.\n",
    "    * “marker” is the shape of the points like a circle or any other symbols for different types of marker find it here.\n",
    "2. Predict the regression line value: Take the minimum error possible, the regression line is decided here.\n",
    "3. Plot the regression line\n",
    "4. Labels are put here instead of just x and y ie the name for x and y are put on the graph here.\n",
    "5. Show the plotted graph"
   ]
  },
  {
   "cell_type": "code",
   "execution_count": 28,
   "metadata": {},
   "outputs": [],
   "source": [
    "def plot_regression_line(X,Y,b):\n",
    "    # plotting the points as per dataset on a graph \n",
    "    plt.scatter(X,Y, color = 'm', marker = \"o\", s = 30)\n",
    "    \n",
    "    # predicted response vector \n",
    "    y_pred = b[0] + b[1]*X\n",
    "    \n",
    "    # plotting the regression line \n",
    "    plt.plot(X, y_pred, color = \"g\")\n",
    "    \n",
    "    #putting labels for x and y axis \n",
    "    plt.xlabel('log(Volume)')\n",
    "    plt.ylabel('log(abundance)')\n",
    "    \n",
    "    #function to show plotted graph \n",
    "    plt.show()"
   ]
  },
  {
   "cell_type": "markdown",
   "metadata": {},
   "source": [
    "## $Function 3:$ Main function \n",
    "Steps include:\n",
    "1. Gather the data sets required ie. x and y.\n",
    "2. Calculate coefficients required ie. the value of moving of regression line in both x and y-direction.\n",
    "3. Plot the graph"
   ]
  },
  {
   "cell_type": "code",
   "execution_count": 29,
   "metadata": {},
   "outputs": [
    {
     "name": "stdout",
     "output_type": "stream",
     "text": [
      "Estimated coefficients:\n",
      "b_0 =-1.3126539942694482 \n",
      "b_1 =1.43566180179978\n"
     ]
    },
    {
     "data": {
      "image/png": "[encoded data removed]",
      "text/plain": [
       "<Figure size 432x288 with 1 Axes>"
      ]
     },
     "metadata": {
      "needs_background": "light"
     },
     "output_type": "display_data"
    }
   ],
   "source": [
    "X = log_phyto_vol\n",
    "Y = np.log(phy_abs_surf[:,0,120,120])\n",
    "def main():\n",
    "        #Datasets which we create \n",
    "        X = log_phyto_vol\n",
    "        Y = np.log(phy_abs_surf[:,0,120,120])\n",
    "        \n",
    "        # estimating coefficients \n",
    "        b = estimate_coefficients (X,Y)\n",
    "        print(\"Estimated coefficients:\\nb_0 ={} \\nb_1 ={}\".format(b[0],b[1]))\n",
    "        \n",
    "        # plotting regression line \n",
    "        plot_regression_line(X,Y,b)\n",
    "        \n",
    "if __name__ ==\"__main__\":\n",
    "    main()"
   ]
  },
  {
   "cell_type": "code",
   "execution_count": null,
   "metadata": {},
   "outputs": [],
   "source": []
  }
 ],
 "metadata": {
  "kernelspec": {
   "display_name": "Python [conda env:miniconda3-python-tutorial]",
   "language": "python",
   "name": "conda-env-miniconda3-python-tutorial-py"
  },
  "language_info": {
   "codemirror_mode": {
    "name": "ipython",
    "version": 3
   },
   "file_extension": ".py",
   "mimetype": "text/x-python",
   "name": "python",
   "nbconvert_exporter": "python",
   "pygments_lexer": "ipython3",
   "version": "3.7.3"
  }
 },
 "nbformat": 4,
 "nbformat_minor": 4
}
