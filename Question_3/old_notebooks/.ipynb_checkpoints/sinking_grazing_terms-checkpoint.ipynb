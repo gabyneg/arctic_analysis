{
 "cells": [
  {
   "cell_type": "markdown",
   "metadata": {},
   "source": [
    "# Sinking terms vs grazing directly\n",
    "\n",
    "#### Units: $\\frac{mmol}{m^3}  \\frac{cm}{s}$"
   ]
  },
  {
   "cell_type": "code",
   "execution_count": 7,
   "metadata": {},
   "outputs": [],
   "source": [
    "%matplotlib inline\n",
    "import warnings\n",
    "warnings.simplefilter(\"ignore\") # Silence warnings\n",
    "from mpl_toolkits.basemap import Basemap\n",
    "import matplotlib.pyplot as plt\n",
    "import numpy as np\n",
    "import hvplot.xarray\n",
    "import xarray as xr\n",
    "import cartopy\n",
    "import cartopy.crs as ccrs\n",
    "import numpy as np\n",
    "from matplotlib.pyplot import figure\n",
    "import pylab \n",
    "from cartopy.util import add_cyclic_point\n",
    "import operator\n",
    "\n",
    "# Scientific libraries\n",
    "from numpy import arange,array,ones\n",
    "from scipy import stats\n",
    "\n",
    "import scipy.io as sio\n",
    "\n",
    "import numpy as np\n",
    "import matplotlib.pyplot as plt\n",
    "import seaborn as sns"
   ]
  },
  {
   "cell_type": "code",
   "execution_count": 8,
   "metadata": {},
   "outputs": [],
   "source": [
    "ds = xr.open_dataset('/glade/work/gabyn/MARBL_spectra/remapgrid.out1.nc')"
   ]
  },
  {
   "cell_type": "code",
   "execution_count": 21,
   "metadata": {},
   "outputs": [],
   "source": [
    "plankon_graze_zoo_zint_100m = np.stack([ds.graze_diat1_zoo_zint_100m,ds.graze_diat2_zoo_zint_100m,ds.graze_diat3_zoo_zint_100m,\n",
    "                                       ds.graze_mp1_zoo_zint_100m,ds.graze_mp2_zoo_zint_100m,ds.graze_mp3_zoo_zint_100m,\n",
    "                                       ds.graze_mp4_zoo_zint_100m,ds.graze_pp_zoo_zint_100m,ds.graze_diaz_zoo_zint_100m])\n",
    "\n",
    "plankton_loss_zint_100m     = np.stack([ds.diat1_loss_zint_100m,ds.diat2_loss_zint_100m,ds.diat3_loss_zint_100m,\n",
    "                                       ds.mp1_loss_zint_100m,ds.mp2_loss_zint_100m,ds.mp3_loss_zint_100m,\n",
    "                                       ds.mp4_loss_zint_100m,ds.pp_loss_zint_100m,ds.diaz_loss_zint_100m])"
   ]
  },
  {
   "cell_type": "code",
   "execution_count": 22,
   "metadata": {},
   "outputs": [
    {
     "ename": "NameError",
     "evalue": "name 'plankton_graze_prop' is not defined",
     "output_type": "error",
     "traceback": [
      "\u001b[0;31m---------------------------------------------------------------------------\u001b[0m",
      "\u001b[0;31mNameError\u001b[0m                                 Traceback (most recent call last)",
      "\u001b[0;32m<ipython-input-22-cd69b91edaba>\u001b[0m in \u001b[0;36m<module>\u001b[0;34m\u001b[0m\n\u001b[1;32m      1\u001b[0m \u001b[0;32mfor\u001b[0m \u001b[0mi\u001b[0m \u001b[0;32min\u001b[0m \u001b[0mrange\u001b[0m\u001b[0;34m(\u001b[0m\u001b[0;36m0\u001b[0m\u001b[0;34m,\u001b[0m\u001b[0;36m9\u001b[0m\u001b[0;34m)\u001b[0m\u001b[0;34m:\u001b[0m\u001b[0;34m\u001b[0m\u001b[0;34m\u001b[0m\u001b[0m\n\u001b[0;32m----> 2\u001b[0;31m     \u001b[0mplankton_graze_prop\u001b[0m\u001b[0;34m[\u001b[0m\u001b[0mi\u001b[0m\u001b[0;34m,\u001b[0m\u001b[0;34m:\u001b[0m\u001b[0;34m,\u001b[0m\u001b[0;34m:\u001b[0m\u001b[0;34m,\u001b[0m\u001b[0;34m:\u001b[0m\u001b[0;34m]\u001b[0m \u001b[0;34m=\u001b[0m \u001b[0mplankon_graze_zoo_zint_100m\u001b[0m\u001b[0;34m[\u001b[0m\u001b[0mi\u001b[0m\u001b[0;34m,\u001b[0m\u001b[0;34m:\u001b[0m\u001b[0;34m,\u001b[0m\u001b[0;34m:\u001b[0m\u001b[0;34m,\u001b[0m\u001b[0;34m:\u001b[0m\u001b[0;34m]\u001b[0m\u001b[0;34m/\u001b[0m\u001b[0;34m(\u001b[0m\u001b[0mplankon_graze_zoo_zint_100m\u001b[0m\u001b[0;34m[\u001b[0m\u001b[0mi\u001b[0m\u001b[0;34m,\u001b[0m\u001b[0;34m:\u001b[0m\u001b[0;34m,\u001b[0m\u001b[0;34m:\u001b[0m\u001b[0;34m,\u001b[0m\u001b[0;34m:\u001b[0m\u001b[0;34m]\u001b[0m\u001b[0;34m+\u001b[0m\u001b[0mplankton_loss_zint_100m\u001b[0m\u001b[0;34m[\u001b[0m\u001b[0mi\u001b[0m\u001b[0;34m,\u001b[0m\u001b[0;34m:\u001b[0m\u001b[0;34m,\u001b[0m\u001b[0;34m:\u001b[0m\u001b[0;34m,\u001b[0m\u001b[0;34m:\u001b[0m\u001b[0;34m]\u001b[0m\u001b[0;34m)\u001b[0m\u001b[0;34m\u001b[0m\u001b[0;34m\u001b[0m\u001b[0m\n\u001b[0m\u001b[1;32m      3\u001b[0m     \u001b[0mplankton_loss_prop\u001b[0m\u001b[0;34m[\u001b[0m\u001b[0mi\u001b[0m\u001b[0;34m,\u001b[0m\u001b[0;34m:\u001b[0m\u001b[0;34m,\u001b[0m\u001b[0;34m:\u001b[0m\u001b[0;34m,\u001b[0m\u001b[0;34m:\u001b[0m\u001b[0;34m]\u001b[0m  \u001b[0;34m=\u001b[0m \u001b[0mplankton_loss_zint_100m\u001b[0m\u001b[0;34m[\u001b[0m\u001b[0mi\u001b[0m\u001b[0;34m,\u001b[0m\u001b[0;34m:\u001b[0m\u001b[0;34m,\u001b[0m\u001b[0;34m:\u001b[0m\u001b[0;34m,\u001b[0m\u001b[0;34m:\u001b[0m\u001b[0;34m]\u001b[0m\u001b[0;34m/\u001b[0m\u001b[0;34m(\u001b[0m\u001b[0mplankton_loss_zint_100m\u001b[0m\u001b[0;34m[\u001b[0m\u001b[0mi\u001b[0m\u001b[0;34m,\u001b[0m\u001b[0;34m:\u001b[0m\u001b[0;34m,\u001b[0m\u001b[0;34m:\u001b[0m\u001b[0;34m,\u001b[0m\u001b[0;34m:\u001b[0m\u001b[0;34m]\u001b[0m\u001b[0;34m+\u001b[0m\u001b[0mplankon_graze_zoo_zint_100m\u001b[0m\u001b[0;34m[\u001b[0m\u001b[0mi\u001b[0m\u001b[0;34m,\u001b[0m\u001b[0;34m:\u001b[0m\u001b[0;34m,\u001b[0m\u001b[0;34m:\u001b[0m\u001b[0;34m,\u001b[0m\u001b[0;34m:\u001b[0m\u001b[0;34m]\u001b[0m\u001b[0;34m)\u001b[0m\u001b[0;34m\u001b[0m\u001b[0;34m\u001b[0m\u001b[0m\n",
      "\u001b[0;31mNameError\u001b[0m: name 'plankton_graze_prop' is not defined"
     ]
    }
   ],
   "source": [
    "for i in range(0,9):\n",
    "    plankton_graze_prop[i,:,:,:] = plankon_graze_zoo_zint_100m[i,:,:,:]/(plankon_graze_zoo_zint_100m[i,:,:,:]+plankton_loss_zint_100m[i,:,:,:])\n",
    "    plankton_loss_prop[i,:,:,:]  = plankton_loss_zint_100m[i,:,:,:]/(plankton_loss_zint_100m[i,:,:,:]+plankon_graze_zoo_zint_100m[i,:,:,:])"
   ]
  },
  {
   "cell_type": "code",
   "execution_count": 10,
   "metadata": {},
   "outputs": [],
   "source": [
    "diat1_graze_prop = ds.graze_diat1_zoo_zint_100m/(ds.graze_diat1_zoo_zint_100m+ds.diat1_loss_zint_100m)\n",
    "diat2_graze_prop = ds.graze_diat2_zoo_zint_100m/(ds.graze_diat2_zoo_zint_100m+ds.diat2_loss_zint_100m)\n",
    "diat3_graze_prop = ds.graze_diat3_zoo_zint_100m/(ds.graze_diat3_zoo_zint_100m+ds.diat3_loss_zint_100m)\n",
    "mp1_graze_prop   = ds.graze_mp1_zoo_zint_100m/(ds.graze_mp1_zoo_zint_100m+ds.mp1_loss_zint_100m)\n",
    "mp2_graze_prop   = ds.graze_mp2_zoo_zint_100m/(ds.graze_mp2_zoo_zint_100m+ds.mp2_loss_zint_100m)\n",
    "mp3_graze_prop   = ds.graze_mp3_zoo_zint_100m/(ds.graze_mp3_zoo_zint_100m+ds.mp3_loss_zint_100m)\n",
    "mp4_graze_prop   = ds.graze_mp4_zoo_zint_100m/(ds.graze_mp4_zoo_zint_100m+ds.mp4_loss_zint_100m)\n",
    "pp_graze_prop    = ds.graze_pp_zoo_zint_100m/(ds.graze_pp_zoo_zint_100m+ds.pp_loss_doc_zint_100m)\n",
    "diaz_graze_prop  = ds.graze_diaz_zoo_zint_100m/(ds.graze_diaz_zoo_zint_100m+ds.diaz_loss_doc_zint_100m)\n",
    "\n",
    "diat1_loss_prop = ds.diat1_loss_zint_100m/(ds.diat1_loss_zint_100m+ds.graze_diat1_zoo_zint_100m)\n",
    "diat2_loss_prop = ds.diat2_loss_zint_100m/(ds.diat2_loss_zint_100m+ds.graze_diat2_zoo_zint_100m)\n",
    "diat3_loss_prop = ds.diat3_loss_zint_100m/(ds.diat3_loss_zint_100m+ds.graze_diat3_zoo_zint_100m)\n",
    "mp1_loss_prop   = ds.mp1_loss_zint_100m/(ds.mp1_loss_zint_100m+ds.graze_mp1_zoo_zint_100m)\n",
    "mp2_loss_prop   = ds.mp2_loss_zint_100m/(ds.mp2_loss_zint_100m+ds.graze_mp2_zoo_zint_100m)\n",
    "mp3_loss_prop   = ds.mp3_loss_zint_100m/(ds.mp3_loss_zint_100m+ds.graze_mp3_zoo_zint_100m)\n",
    "mp4_loss_prop   = ds.mp4_loss_zint_100m/(ds.mp4_loss_zint_100m+ds.graze_mp4_zoo_zint_100m)\n",
    "pp_loss_prop    = ds.pp_loss_doc_zint_100m/(ds.pp_loss_doc_zint_100m+ds.graze_pp_zoo_zint_100m)\n",
    "diaz_loss_prop  = ds.diaz_loss_doc_zint_100m/(ds.diaz_loss_doc_zint_100m+ds.graze_diaz_zoo_zint_100m)"
   ]
  },
  {
   "cell_type": "code",
   "execution_count": null,
   "metadata": {},
   "outputs": [],
   "source": [
    "diat1_loss_ = np.nanmean(diat1_loss_prop[], axis = (1,2))\n",
    "diat2_loss_ = np.nanmean(diat2_loss_prop[], axis = (1,2))\n",
    "diat3_loss_ = np.nanmean(diat3_loss_prop[], axis = (1,2))\n",
    "diaz_loss_ = np.nanmean(diaz_loss_prop[], axis = (1,2))\n",
    "pp_loss_mn_ = np.nanmean(pp_loss_prop[], axis = (1,2))\n",
    "mp1_loss_mn_ = np.nanmean(mp1_loss_prop[], axis = (1,2))\n",
    "mp2_loss_mn_ = np.nanmean(mp2_loss_prop[], axis = (1,2))\n",
    "mp3_loss_mn_ = np.nanmean(mp3_loss_prop[], axis = (1,2))\n",
    "mp4_loss_mn_ = np.nanmean(mp4_loss_prop[], axis = (1,2))\n",
    "\n",
    "\n",
    "diat1_graze_mn_ = np.nanmean(diat1_graze_prop[], axis = (1,2))\n",
    "diat2_graze_mn_ = np.nanmean(diat2_graze_prop[], axis = (1,2))\n",
    "diat3_graze_mn_ = np.nanmean(diat3_graze_prop[], axis = (1,2))\n",
    "diaz_graze_mn_ = np.nanmean(diaz_graze_prop[], axis = (1,2))\n",
    "pp_graze_mn_ = np.nanmean(pp_graze_prop[], axis = (1,2))\n",
    "mp1_graze_mn_ = np.nanmean(mp1_graze_prop[], axis = (1,2))\n",
    "mp2_graze_mn_zint_100m = np.nanmean(mp2_graze_prop[], axis = (1,2))\n",
    "mp3_graze_mn_zint_100m = np.nanmean(mp3_graze_prop[], axis = (1,2))\n",
    "mp4_graze_mn_zint_100m = np.nanmean(mp4_graze_prop[], axis = (1,2))"
   ]
  }
 ],
 "metadata": {
  "kernelspec": {
   "display_name": "Python [conda env:miniconda3-python-tutorial]",
   "language": "python",
   "name": "conda-env-miniconda3-python-tutorial-py"
  },
  "language_info": {
   "codemirror_mode": {
    "name": "ipython",
    "version": 3
   },
   "file_extension": ".py",
   "mimetype": "text/x-python",
   "name": "python",
   "nbconvert_exporter": "python",
   "pygments_lexer": "ipython3",
   "version": "3.7.3"
  }
 },
 "nbformat": 4,
 "nbformat_minor": 4
}
