{
 "cells": [
  {
   "cell_type": "markdown",
   "metadata": {},
   "source": [
    "# Creating an interannual monthly zooplankton C that I can save and be able to more easily use in my other figures"
   ]
  },
  {
   "cell_type": "code",
   "execution_count": 1,
   "metadata": {},
   "outputs": [],
   "source": [
    "import warnings\n",
    "warnings.simplefilter(\"ignore\") # Silence warnings\n",
    "#from mpl_toolkits.basemap import Basemap\n",
    "import matplotlib.pyplot as plt\n",
    "import numpy as np\n",
    "import xarray as xr\n",
    "import numpy as np\n",
    "from matplotlib.pyplot import figure\n",
    "\n",
    "import numpy.ma as ma\n",
    "from netCDF4 import Dataset as NetCDFFile\n",
    "import cartopy\n",
    "import cartopy.crs as ccrs\n",
    "import pylab \n",
    "from copy import deepcopy\n",
    "import pandas as pd\n",
    "import matplotlib\n",
    "import matplotlib.colors as colors\n",
    "from cartopy.util import add_cyclic_point\n",
    "plt.rcParams['mathtext.default']='regular'\n",
    "from collections import OrderedDict\n",
    "import cmocean\n",
    "import matplotlib.cm as cm\n",
    "import matplotlib as mpl\n",
    "import seaborn as sns\n",
    "from matplotlib.gridspec import GridSpec\n",
    "import matplotlib\n",
    "# Scientific libraries\n",
    "from numpy import arange,array,ones\n",
    "from scipy import stats\n",
    "import os\n",
    "\n",
    "%matplotlib inline\n",
    "from glob import glob\n",
    "import dask\n",
    "#import esmlab\n",
    "import pop_tools \n",
    "from statistics import mean"
   ]
  },
  {
   "cell_type": "code",
   "execution_count": 2,
   "metadata": {},
   "outputs": [],
   "source": [
    "class MidpointNormalize(colors.Normalize):\n",
    "    def __init__(self, vmin=None, vmax=None, midpoint=None, clip=False):\n",
    "        self.midpoint = midpoint\n",
    "        colors.Normalize.__init__(self, vmin, vmax, clip)\n",
    "\n",
    "    def __call__(self, value, clip=None):\n",
    "        if clip is None:\n",
    "            clip = self.clip\n",
    "\n",
    "        result, is_scalar = self.process_value(value)\n",
    "\n",
    "        self.autoscale_None(result)\n",
    "        vmin, vmax, midpoint = self.vmin, self.vmax, self.midpoint\n",
    "\n",
    "        if not (vmin < midpoint < vmax):\n",
    "            raise ValueError(\"midpoint must be between maxvalue and minvalue.\")\n",
    "        elif vmin == vmax:\n",
    "            result.fill(0) # Or should it be all masked? Or 0.5?\n",
    "        elif vmin > vmax:\n",
    "            raise ValueError(\"maxvalue must be bigger than minvalue\")\n",
    "        else:\n",
    "            vmin = float(vmin)\n",
    "            vmax = float(vmax)\n",
    "            if clip:\n",
    "                mask = np.ma.getmask(result)\n",
    "                result = np.ma.array(np.clip(result.filled(vmax), vmin, vmax),\n",
    "                                  mask=mask)\n",
    "\n",
    "            # ma division is very slow; we can take a shortcut\n",
    "            resdat = result.data\n",
    "\n",
    "            #First scale to -1 to 1 range, than to from 0 to 1.\n",
    "            resdat -= midpoint\n",
    "            resdat[resdat>0] /= abs(vmax - midpoint)\n",
    "            resdat[resdat<0] /= abs(vmin - midpoint)\n",
    "\n",
    "            resdat /= 2.\n",
    "            resdat += 0.5\n",
    "            result = np.ma.array(resdat, mask=result.mask, copy=False)\n",
    "\n",
    "        if is_scalar:\n",
    "            result = result[0]\n",
    "        return result"
   ]
  },
  {
   "cell_type": "code",
   "execution_count": 3,
   "metadata": {},
   "outputs": [],
   "source": [
    "import re\n",
    "numbers = re.compile(r'(\\d+)')\n",
    "def numericalSort(value):\n",
    "    parts = numbers.split(value)\n",
    "    parts[1::2] = map(int, parts[1::2])\n",
    "    return parts"
   ]
  },
  {
   "cell_type": "code",
   "execution_count": 4,
   "metadata": {},
   "outputs": [],
   "source": [
    "def adjust_pop_grid(tlon,tlat,field):\n",
    "    nj = tlon.shape[0]\n",
    "    ni = tlon.shape[1]\n",
    "    xL = int(ni/2 - 1)\n",
    "    xR = int(xL + ni)\n",
    "\n",
    "    tlon = np.where(np.greater_equal(tlon,np.min(tlon[:,0])),tlon-360.,tlon)\n",
    "    lon  = np.concatenate((tlon,tlon+360.),1)\n",
    "    lon = lon[:,xL:xR]\n",
    "\n",
    "    if ni == 320:\n",
    "        lon[367:-3,0] = lon[367:-3,0]+360.\n",
    "    lon = lon - 360.\n",
    "    lon = np.hstack((lon,lon[:,0:1]+360.))\n",
    "    if ni == 320:\n",
    "        lon[367:,-1] = lon[367:,-1] - 360.\n",
    "\n",
    "    #-- trick cartopy into doing the right thing:\n",
    "    #   it gets confused when the cyclic coords are identical\n",
    "    lon[:,0] = lon[:,0]-1e-8\n",
    "\n",
    "    #-- periodicity\n",
    "    lat  = np.concatenate((tlat,tlat),1)\n",
    "    lat = lat[:,xL:xR]\n",
    "    lat = np.hstack((lat,lat[:,0:1]))\n",
    "\n",
    "    field = np.ma.concatenate((field,field),1)\n",
    "    field = field[:,xL:xR]\n",
    "    field = np.ma.hstack((field,field[:,0:1]))\n",
    "    return lon,lat,field"
   ]
  },
  {
   "cell_type": "markdown",
   "metadata": {},
   "source": [
    "## Seasonality and interannual variability in SPECTRA"
   ]
  },
  {
   "cell_type": "code",
   "execution_count": 5,
   "metadata": {},
   "outputs": [],
   "source": [
    "case = 'g.e21.G1850ECOIAF.t62_g17.marbl0_33.GNG595'\n",
    "path = f'/glade/campaign/cesm/development/bgcwg/projects/marbl-spectra/{case}/ocn/hist'"
   ]
  },
  {
   "cell_type": "code",
   "execution_count": 6,
   "metadata": {},
   "outputs": [],
   "source": [
    "variables = [f'{var}C' for var in ['zoo1','zoo2','zoo3', 'zoo4', 'zoo5', 'zoo6']]\n",
    "coords = {'x':'TLONG','y':'TLAT'}\n",
    "keep_vars = variables + list(coords.values())+['dz','KMT','time']"
   ]
  },
  {
   "cell_type": "code",
   "execution_count": 7,
   "metadata": {},
   "outputs": [
    {
     "name": "stdout",
     "output_type": "stream",
     "text": [
      "63\n",
      "64\n",
      "65\n",
      "66\n",
      "67\n",
      "68\n",
      "69\n",
      "70\n",
      "71\n",
      "72\n",
      "73\n",
      "74\n",
      "75\n",
      "76\n",
      "77\n",
      "78\n",
      "79\n",
      "80\n",
      "81\n",
      "82\n",
      "83\n",
      "84\n",
      "85\n",
      "86\n",
      "87\n",
      "88\n",
      "89\n",
      "90\n",
      "91\n",
      "92\n",
      "93\n",
      "94\n",
      "95\n",
      "96\n",
      "97\n",
      "98\n",
      "99\n",
      "100\n",
      "101\n",
      "102\n",
      "103\n",
      "104\n",
      "105\n",
      "106\n",
      "107\n",
      "108\n",
      "109\n",
      "110\n",
      "111\n",
      "112\n",
      "113\n",
      "114\n",
      "115\n",
      "116\n",
      "117\n",
      "118\n",
      "119\n",
      "120\n",
      "121\n",
      "122\n",
      "123\n",
      "124\n",
      "CPU times: user 9min 54s, sys: 6min 51s, total: 16min 45s\n",
      "Wall time: 19min 40s\n"
     ]
    }
   ],
   "source": [
    "%%time\n",
    "months = ['01','02','03','04','05','06','07','08','09','10','11','12']\n",
    "ds_01_avg = xr.Dataset()\n",
    "\n",
    "for year in np.arange(63,125,1):\n",
    "    yr4=\"0{:02d}\".format(year).zfill(4)\n",
    "    print(year)\n",
    "    for month in months:\n",
    "    \n",
    "        ds_01 = xr.Dataset()\n",
    "\n",
    "        file = sorted(glob(f'{path}/{case}.pop.h.{yr4}-{month}.nc'))\n",
    "        \n",
    "        dsv_01=xr.open_mfdataset(file, decode_times=True,drop_variables=[\"transport_components\", \"transport_regions\"], \n",
    "                            parallel=True, compat=\"override\", combine='nested', concat_dim=\"time\",data_vars=\"minimal\",coords='minimal' )\n",
    "    \n",
    "        for vv in variables: \n",
    "            ds_01 = xr.merge((ds_01, dsv_01[vv]))\n",
    "\n",
    "        ds_01 = ds_01.drop([v for v in ds_01.variables if v not in keep_vars]).squeeze()\n",
    "        ds_01_avg = xr.concat([ds_01_avg, ds_01],dim='year')\n",
    "    "
   ]
  },
  {
   "cell_type": "markdown",
   "metadata": {},
   "source": [
    "# Zooplankton 1"
   ]
  },
  {
   "cell_type": "code",
   "execution_count": 8,
   "metadata": {},
   "outputs": [],
   "source": [
    "zoo1C_bmss = np.array(ds_01_avg.zoo1C)"
   ]
  },
  {
   "cell_type": "code",
   "execution_count": 9,
   "metadata": {},
   "outputs": [
    {
     "name": "stdout",
     "output_type": "stream",
     "text": [
      "CPU times: user 1.89 s, sys: 1.83 s, total: 3.71 s\n",
      "Wall time: 3.78 s\n"
     ]
    }
   ],
   "source": [
    "%%time\n",
    "zoo1C_ds_inter = np.empty([62,12,15,384,320])\n",
    "zoo1C_ds_inter[:] = np.nan\n",
    "x = np.array(range(0,744,12)) ## this loops from 0 to 2016, and selects every 12th number. \n",
    "for i in range(62):\n",
    "    zoo1C_ds_inter[i,:,:,:,:] = zoo1C_bmss[x[i]:x[i]+12,:,:,:]"
   ]
  },
  {
   "cell_type": "code",
   "execution_count": 10,
   "metadata": {},
   "outputs": [],
   "source": [
    "zoo1C_bm_150m = np.nansum(zoo1C_ds_inter, axis=2) * 10/150 #integrate over depth #mmol m-3\n",
    "zoo1C_bm_150m = zoo1C_bm_150m * 12.011 *1000 # ug C m-3 --> ugC m^{-3}"
   ]
  },
  {
   "cell_type": "code",
   "execution_count": 11,
   "metadata": {},
   "outputs": [],
   "source": [
    "month = np.arange(0,12,1)\n",
    "time = np.arange(0,62,1)\n",
    "zoo1C_bmss_150m = xr.DataArray(zoo1C_bm_150m, coords={'time':time,'month':month, 'TLAT':ds_01_avg.TLAT, 'TLONG':ds_01_avg.TLONG},\n",
    "                                    dims=['time','month', 'nlat', 'nlon'],\n",
    "                                    attrs=dict(description=\"zoo1 integrated over depth (150m)\",units=\"ugC m^{-3}\"))\n",
    "zoo1C_bmss_150m = zoo1C_bmss_150m.to_dataset(name='zoo1C_150m')"
   ]
  },
  {
   "cell_type": "code",
   "execution_count": 12,
   "metadata": {
    "tags": []
   },
   "outputs": [],
   "source": [
    "zoo1C_bmss_150m.to_netcdf('/glade/derecho/scratch/gabyn/SPECTRA_hindcast/SPECTRA_1990_2009/GNG595_monthly_yearly_1948_2009/zoo1C_62yr_monthly_150m.nc');"
   ]
  },
  {
   "cell_type": "markdown",
   "metadata": {},
   "source": [
    "# Zooplankton 2"
   ]
  },
  {
   "cell_type": "code",
   "execution_count": 13,
   "metadata": {},
   "outputs": [],
   "source": [
    "zoo2C_bmss = np.array(ds_01_avg.zoo2C)"
   ]
  },
  {
   "cell_type": "code",
   "execution_count": 14,
   "metadata": {},
   "outputs": [
    {
     "name": "stdout",
     "output_type": "stream",
     "text": [
      "CPU times: user 1.87 s, sys: 1.85 s, total: 3.72 s\n",
      "Wall time: 3.81 s\n"
     ]
    }
   ],
   "source": [
    "%%time\n",
    "zoo2C_ds_inter = np.empty([62,12,15,384,320])\n",
    "zoo2C_ds_inter[:] = np.nan\n",
    "x = np.array(range(0,744,12)) ## this loops from 0 to 2016, and selects every 12th number. \n",
    "for i in range(62):\n",
    "    zoo2C_ds_inter[i,:,:,:,:] = zoo2C_bmss[x[i]:x[i]+12,:,:,:]"
   ]
  },
  {
   "cell_type": "code",
   "execution_count": 15,
   "metadata": {},
   "outputs": [],
   "source": [
    "zoo2C_bm_150m = np.nansum(zoo2C_ds_inter, axis=2) * 10/150 #integrate over depth #mmol m-3\n",
    "zoo2C_bm_150m = zoo2C_bm_150m * 12.011 *1000 # ug C m-3 --> ugC m^{-3}"
   ]
  },
  {
   "cell_type": "code",
   "execution_count": 16,
   "metadata": {},
   "outputs": [],
   "source": [
    "month = np.arange(0,12,1)\n",
    "time = np.arange(0,62,1)\n",
    "zoo2C_bmss_150m = xr.DataArray(zoo2C_bm_150m, coords={'time':time,'month':month, 'TLAT':ds_01_avg.TLAT, 'TLONG':ds_01_avg.TLONG},\n",
    "                                    dims=['time','month', 'nlat', 'nlon'],\n",
    "                                    attrs=dict(description=\"zoo2 integrated over depth (150m)\",units=\"ugC m^{-3}\"))\n",
    "zoo2C_bmss_150m = zoo2C_bmss_150m.to_dataset(name='zoo2C_150m')"
   ]
  },
  {
   "cell_type": "code",
   "execution_count": 17,
   "metadata": {
    "tags": []
   },
   "outputs": [],
   "source": [
    "zoo2C_bmss_150m.to_netcdf('/glade/derecho/scratch/gabyn/SPECTRA_hindcast/SPECTRA_1990_2009/GNG595_monthly_yearly_1948_2009/zoo2C_62yr_monthly_150m.nc');"
   ]
  },
  {
   "cell_type": "markdown",
   "metadata": {},
   "source": [
    "# Zooplankton 3"
   ]
  },
  {
   "cell_type": "code",
   "execution_count": 18,
   "metadata": {},
   "outputs": [],
   "source": [
    "zoo3C_bmss = np.array(ds_01_avg.zoo3C)"
   ]
  },
  {
   "cell_type": "code",
   "execution_count": 19,
   "metadata": {},
   "outputs": [
    {
     "name": "stdout",
     "output_type": "stream",
     "text": [
      "CPU times: user 1.85 s, sys: 1.87 s, total: 3.72 s\n",
      "Wall time: 3.82 s\n"
     ]
    }
   ],
   "source": [
    "%%time\n",
    "zoo3C_ds_inter = np.empty([62,12,15,384,320])\n",
    "zoo3C_ds_inter[:] = np.nan\n",
    "x = np.array(range(0,744,12)) ## this loops from 0 to 2016, and selects every 12th number. \n",
    "for i in range(62):\n",
    "    zoo3C_ds_inter[i,:,:,:,:] = zoo3C_bmss[x[i]:x[i]+12,:,:,:]"
   ]
  },
  {
   "cell_type": "code",
   "execution_count": 20,
   "metadata": {},
   "outputs": [],
   "source": [
    "zoo3C_bm_150m = np.nansum(zoo3C_ds_inter, axis=2) * 10/150 #integrate over depth #mmol m-3\n",
    "zoo3C_bm_150m = zoo3C_bm_150m * 12.011 *1000 # ug C m-3 --> ugC m^{-3}"
   ]
  },
  {
   "cell_type": "code",
   "execution_count": 21,
   "metadata": {},
   "outputs": [],
   "source": [
    "month = np.arange(0,12,1)\n",
    "time = np.arange(0,62,1)\n",
    "zoo3C_bmss_150m = xr.DataArray(zoo3C_bm_150m, coords={'time':time,'month':month, 'TLAT':ds_01_avg.TLAT, 'TLONG':ds_01_avg.TLONG},\n",
    "                                    dims=['time','month', 'nlat', 'nlon'],\n",
    "                                    attrs=dict(description=\"zoo3 integrated over depth (150m)\",units=\"ugC m^{-3}\"))\n",
    "zoo3C_bmss_150m = zoo3C_bmss_150m.to_dataset(name='zoo3C_150m')"
   ]
  },
  {
   "cell_type": "code",
   "execution_count": 22,
   "metadata": {
    "tags": []
   },
   "outputs": [],
   "source": [
    "zoo3C_bmss_150m.to_netcdf('/glade/derecho/scratch/gabyn/SPECTRA_hindcast/SPECTRA_1990_2009/GNG595_monthly_yearly_1948_2009/zoo3C_62yr_monthly_150m.nc');"
   ]
  },
  {
   "cell_type": "markdown",
   "metadata": {},
   "source": [
    "# Zooplankton 4"
   ]
  },
  {
   "cell_type": "code",
   "execution_count": 23,
   "metadata": {},
   "outputs": [],
   "source": [
    "zoo4C_bmss = np.array(ds_01_avg.zoo4C)"
   ]
  },
  {
   "cell_type": "code",
   "execution_count": 24,
   "metadata": {},
   "outputs": [
    {
     "name": "stdout",
     "output_type": "stream",
     "text": [
      "CPU times: user 2.14 s, sys: 2.3 s, total: 4.44 s\n",
      "Wall time: 4.55 s\n"
     ]
    }
   ],
   "source": [
    "%%time\n",
    "zoo4C_ds_inter = np.empty([62,12,15,384,320])\n",
    "zoo4C_ds_inter[:] = np.nan\n",
    "x = np.array(range(0,744,12)) ## this loops from 0 to 2016, and selects every 12th number. \n",
    "for i in range(62):\n",
    "    zoo4C_ds_inter[i,:,:,:,:] = zoo4C_bmss[x[i]:x[i]+12,:,:,:]"
   ]
  },
  {
   "cell_type": "code",
   "execution_count": 25,
   "metadata": {},
   "outputs": [],
   "source": [
    "zoo4C_bm_150m = np.nansum(zoo4C_ds_inter, axis=2) * 10/150 #integrate over depth #mmol m-3\n",
    "zoo4C_bm_150m = zoo4C_bm_150m * 12.011 *1000 # ug C m-3 --> ugC m^{-3}"
   ]
  },
  {
   "cell_type": "code",
   "execution_count": 26,
   "metadata": {},
   "outputs": [],
   "source": [
    "month = np.arange(0,12,1)\n",
    "time = np.arange(0,62,1)\n",
    "zoo4C_bmss_150m = xr.DataArray(zoo4C_bm_150m, coords={'time':time,'month':month, 'TLAT':ds_01_avg.TLAT, 'TLONG':ds_01_avg.TLONG},\n",
    "                                    dims=['time','month', 'nlat', 'nlon'],\n",
    "                                    attrs=dict(description=\"zoo4 integrated over depth (150m)\",units=\"ugC m^{-3}\"))\n",
    "zoo4C_bmss_150m = zoo4C_bmss_150m.to_dataset(name='zoo4C_150m')"
   ]
  },
  {
   "cell_type": "code",
   "execution_count": 28,
   "metadata": {
    "tags": []
   },
   "outputs": [],
   "source": [
    "zoo4C_bmss_150m.to_netcdf('/glade/derecho/scratch/gabyn/SPECTRA_hindcast/SPECTRA_1990_2009/GNG595_monthly_yearly_1948_2009/zoo4C_62yr_monthly_150m.nc');"
   ]
  },
  {
   "cell_type": "markdown",
   "metadata": {},
   "source": [
    "# Zooplankton 5"
   ]
  },
  {
   "cell_type": "code",
   "execution_count": 29,
   "metadata": {},
   "outputs": [],
   "source": [
    "zoo5C_bmss = np.array(ds_01_avg.zoo5C)"
   ]
  },
  {
   "cell_type": "code",
   "execution_count": 30,
   "metadata": {},
   "outputs": [
    {
     "name": "stdout",
     "output_type": "stream",
     "text": [
      "CPU times: user 1.99 s, sys: 1.75 s, total: 3.74 s\n",
      "Wall time: 3.83 s\n"
     ]
    }
   ],
   "source": [
    "%%time\n",
    "zoo5C_ds_inter = np.empty([62,12,15,384,320])\n",
    "zoo5C_ds_inter[:] = np.nan\n",
    "x = np.array(range(0,744,12)) ## this loops from 0 to 2016, and selects every 12th number. \n",
    "for i in range(62):\n",
    "    zoo5C_ds_inter[i,:,:,:,:] = zoo5C_bmss[x[i]:x[i]+12,:,:,:]"
   ]
  },
  {
   "cell_type": "code",
   "execution_count": 31,
   "metadata": {},
   "outputs": [],
   "source": [
    "zoo5C_bm_150m = np.nansum(zoo5C_ds_inter, axis=2) * 10/150 #integrate over depth #mmol m-3\n",
    "zoo5C_bm_150m = zoo5C_bm_150m * 12.011 *1000 # ug C m-3 --> ugC m^{-3}"
   ]
  },
  {
   "cell_type": "code",
   "execution_count": 32,
   "metadata": {},
   "outputs": [],
   "source": [
    "month = np.arange(0,12,1)\n",
    "time = np.arange(0,62,1)\n",
    "zoo5C_bmss_150m = xr.DataArray(zoo5C_bm_150m, coords={'time':time,'month':month, 'TLAT':ds_01_avg.TLAT, 'TLONG':ds_01_avg.TLONG},\n",
    "                                    dims=['time','month', 'nlat', 'nlon'],\n",
    "                                    attrs=dict(description=\"zoo5 integrated over depth (150m)\",units=\"ugC m^{-3}\"))\n",
    "zoo5C_bmss_150m = zoo5C_bmss_150m.to_dataset(name='zoo5C_150m')"
   ]
  },
  {
   "cell_type": "code",
   "execution_count": 33,
   "metadata": {
    "tags": []
   },
   "outputs": [],
   "source": [
    "zoo5C_bmss_150m.to_netcdf('/glade/derecho/scratch/gabyn/SPECTRA_hindcast/SPECTRA_1990_2009/GNG595_monthly_yearly_1948_2009/zoo5C_62yr_monthly_150m.nc');"
   ]
  },
  {
   "cell_type": "markdown",
   "metadata": {},
   "source": [
    "# Zooplankton 6"
   ]
  },
  {
   "cell_type": "code",
   "execution_count": 34,
   "metadata": {},
   "outputs": [],
   "source": [
    "zoo6C_bmss = np.array(ds_01_avg.zoo6C)"
   ]
  },
  {
   "cell_type": "code",
   "execution_count": 35,
   "metadata": {},
   "outputs": [
    {
     "name": "stdout",
     "output_type": "stream",
     "text": [
      "CPU times: user 1.93 s, sys: 3.24 s, total: 5.17 s\n",
      "Wall time: 5.4 s\n"
     ]
    }
   ],
   "source": [
    "%%time\n",
    "zoo6C_ds_inter = np.empty([62,12,15,384,320])\n",
    "zoo6C_ds_inter[:] = np.nan\n",
    "x = np.array(range(0,744,12)) ## this loops from 0 to 2016, and selects every 12th number. \n",
    "for i in range(62):\n",
    "    zoo6C_ds_inter[i,:,:,:,:] = zoo6C_bmss[x[i]:x[i]+12,:,:,:]"
   ]
  },
  {
   "cell_type": "code",
   "execution_count": 36,
   "metadata": {},
   "outputs": [],
   "source": [
    "zoo6C_bm_150m = np.nansum(zoo6C_ds_inter, axis=2) * 10/150 #integrate over depth #mmol m-3\n",
    "zoo6C_bm_150m = zoo6C_bm_150m * 12.011 *1000 # ug C m-3 --> ugC m^{-3}"
   ]
  },
  {
   "cell_type": "code",
   "execution_count": 37,
   "metadata": {},
   "outputs": [],
   "source": [
    "month = np.arange(0,12,1)\n",
    "time = np.arange(0,62,1)\n",
    "zoo6C_bmss_150m = xr.DataArray(zoo6C_bm_150m, coords={'time':time,'month':month, 'TLAT':ds_01_avg.TLAT, 'TLONG':ds_01_avg.TLONG},\n",
    "                                    dims=['time','month', 'nlat', 'nlon'],\n",
    "                                    attrs=dict(description=\"zoo6 integrated over depth (150m)\",units=\"ugC m^{-3}\"))\n",
    "zoo6C_bmss_150m = zoo6C_bmss_150m.to_dataset(name='zoo6C_150m')"
   ]
  },
  {
   "cell_type": "code",
   "execution_count": 38,
   "metadata": {},
   "outputs": [],
   "source": [
    "zoo6C_bmss_150m.to_netcdf('/glade/derecho/scratch/gabyn/SPECTRA_hindcast/SPECTRA_1990_2009/GNG595_monthly_yearly_1948_2009/zoo6C_62yr_monthly_150m.nc');"
   ]
  },
  {
   "cell_type": "markdown",
   "metadata": {},
   "source": [
    "# Regrid to 180 by 360 grid"
   ]
  },
  {
   "cell_type": "markdown",
   "metadata": {
    "tags": []
   },
   "source": [
    "## 3. Regrid from that nc file (you can do this in bash)\n",
    "`zoo1C`  \n",
    "\n",
    "cd /glade/u/home/gabyn/scratch/SPECTRA/nc_files\n",
    "ncatted -a coordinates,zoo1C_150m,c,c,\"TLONG TLAT\" zoo1C_62yr_monthly_150m.nc\n",
    "cdo remapbil,r360x180 -selname,zoo1C_150m zoo1C_62yr_monthly_150m.nc zoo1C_62yr_monthly_150m_regrid.nc\n",
    "cdo sellonlatbox,-180,180,-89.5,89.5 zoo1C_62yr_monthly_150m_regrid.nc regrid_zoo1C_62yr_monthly_150m.nc\n",
    "\n",
    "`zoo2C`\n",
    "\n",
    "ncatted -a coordinates,zoo2C_150m,c,c,\"TLONG TLAT\" zoo2C_62yr_monthly_150m.nc\n",
    "cdo remapbil,r360x180 -selname,zoo2C_150m zoo2C_62yr_monthly_150m.nc zoo2C_62yr_monthly_150m_regrid.nc\n",
    "cdo sellonlatbox,-180,180,-89.5,89.5 zoo2C_62yr_monthly_150m_regrid.nc regrid_zoo2C_62yr_monthly_150m.nc\n",
    "\n",
    "\n",
    "`zoo3C`\n",
    "\n",
    "ncatted -a coordinates,zoo3C_150m,c,c,\"TLONG TLAT\" zoo3C_62yr_monthly_150m.nc\n",
    "cdo remapbil,r360x180 -selname,zoo3C_150m zoo3C_62yr_monthly_150m.nc zoo3C_62yr_monthly_150m_regrid.nc\n",
    "cdo sellonlatbox,-180,180,-89.5,89.5 zoo3C_62yr_monthly_150m_regrid.nc regrid_zoo3C_62yr_monthly_150m.nc\n",
    "\n",
    "`zoo4C`\n",
    "\n",
    "ncatted -a coordinates,zoo4C_150m,c,c,\"TLONG TLAT\" zoo4C_62yr_monthly_150m.nc\n",
    "cdo remapbil,r360x180 -selname,zoo4C_150m zoo4C_62yr_monthly_150m.nc zoo4C_62yr_monthly_150m_regrid.nc\n",
    "cdo sellonlatbox,-180,180,-89.5,89.5 zoo4C_62yr_monthly_150m_regrid.nc regrid_zoo4C_62yr_monthly_150m.nc\n",
    "\n",
    "`zoo5C`\n",
    "\n",
    "ncatted -a coordinates,zoo5C_150m,c,c,\"TLONG TLAT\" zoo5C_62yr_monthly_150m.nc\n",
    "cdo remapbil,r360x180 -selname,zoo5C_150m zoo5C_62yr_monthly_150m.nc zoo5C_62yr_monthly_150m_regrid.nc\n",
    "cdo sellonlatbox,-180,180,-89.5,89.5 zoo5C_62yr_monthly_150m_regrid.nc regrid_zoo5C_62yr_monthly_150m.nc\n",
    "\n",
    "`zoo6C`\n",
    "\n",
    "ncatted -a coordinates,zoo6C_150m,c,c,\"TLONG TLAT\" zoo6C_62yr_monthly_150m.nc\n",
    "cdo remapbil,r360x180 -selname,zoo6C_150m zoo6C_62yr_monthly_150m.nc zoo6C_62yr_monthly_150m_regrid.nc\n",
    "cdo sellonlatbox,-180,180,-89.5,89.5 zoo6C_62yr_monthly_150m_regrid.nc regrid_zoo6C_62yr_monthly_150m.nc"
   ]
  },
  {
   "cell_type": "code",
   "execution_count": null,
   "metadata": {},
   "outputs": [],
   "source": []
  }
 ],
 "metadata": {
  "kernelspec": {
   "display_name": "NPL 2023b",
   "language": "python",
   "name": "npl-2023b"
  },
  "language_info": {
   "codemirror_mode": {
    "name": "ipython",
    "version": 3
   },
   "file_extension": ".py",
   "mimetype": "text/x-python",
   "name": "python",
   "nbconvert_exporter": "python",
   "pygments_lexer": "ipython3",
   "version": "3.10.12"
  }
 },
 "nbformat": 4,
 "nbformat_minor": 4
}
