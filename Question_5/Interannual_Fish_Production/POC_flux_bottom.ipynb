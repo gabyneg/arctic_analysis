{
 "cells": [
  {
   "cell_type": "markdown",
   "id": "153de40a-800d-4334-bef0-f8ae1abcb374",
   "metadata": {},
   "source": [
    "## Calculate the POC flux at the bottom \n",
    "    1. Calculate bottom depth for each grid cell\n",
    "    2. Using the bottom depth, calculate the POC flux in the bottom layer for every year and every lon and lan "
   ]
  },
  {
   "cell_type": "code",
   "execution_count": 1,
   "id": "afb02a3e-190a-498f-9a2a-8e48190caf1c",
   "metadata": {},
   "outputs": [],
   "source": [
    "%matplotlib inline\n",
    "import warnings\n",
    "warnings.filterwarnings('ignore')\n",
    "import os\n",
    "from glob import glob\n",
    "from collections import OrderedDict\n",
    "import xarray as xr\n",
    "import numpy as np\n",
    "import ncar_jobqueue\n",
    "from dask.distributed import Client\n",
    "\n",
    "import matplotlib.pyplot as plt\n",
    "import cartopy\n",
    "import cartopy.crs as ccrs\n",
    "from scipy import stats\n",
    "import pop_tools \n",
    "\n",
    "import cftime\n",
    "import pandas as pd\n",
    "import utils\n",
    "\n",
    "import cmocean"
   ]
  },
  {
   "cell_type": "code",
   "execution_count": 2,
   "id": "951fc878-ac17-444c-acd6-ba93a869b57e",
   "metadata": {},
   "outputs": [],
   "source": [
    "case = 'g.e21.G1850ECOIAF.t62_g17.marbl0_33.GNG595'\n",
    "path = f'/glade/campaign/cesm/development/bgcwg/projects/marbl-spectra/{case}/ocn/hist'"
   ]
  },
  {
   "cell_type": "code",
   "execution_count": 3,
   "id": "b1c14b04-1539-467f-8ae5-de00ea170580",
   "metadata": {},
   "outputs": [],
   "source": [
    "variables = [f'{var}' for var in ['POC_FLUX_IN','KMT','photoC_TOT']]\n",
    "coords = {'x':'TLONG','y':'TLAT'}\n",
    "keep_vars = variables + list(coords.values())+['dz','KMT','time']"
   ]
  },
  {
   "cell_type": "code",
   "execution_count": 4,
   "id": "20f24777-607c-4750-89a0-7320e83a9f3f",
   "metadata": {},
   "outputs": [
    {
     "name": "stdout",
     "output_type": "stream",
     "text": [
      "63\n",
      "64\n",
      "65\n",
      "66\n",
      "67\n",
      "68\n",
      "69\n",
      "70\n",
      "71\n",
      "72\n",
      "73\n",
      "74\n",
      "75\n",
      "76\n",
      "77\n",
      "78\n",
      "79\n",
      "80\n",
      "81\n",
      "82\n",
      "83\n",
      "84\n",
      "85\n",
      "86\n",
      "87\n",
      "88\n",
      "89\n",
      "90\n",
      "91\n",
      "92\n",
      "93\n",
      "94\n",
      "95\n",
      "96\n",
      "97\n",
      "98\n",
      "99\n",
      "100\n",
      "101\n",
      "102\n",
      "103\n",
      "104\n",
      "105\n",
      "106\n",
      "107\n",
      "108\n",
      "109\n",
      "110\n",
      "111\n",
      "112\n",
      "113\n",
      "114\n",
      "115\n",
      "116\n",
      "117\n",
      "118\n",
      "119\n",
      "120\n",
      "121\n",
      "122\n",
      "123\n",
      "124\n",
      "CPU times: user 7min 34s, sys: 45.8 s, total: 8min 20s\n",
      "Wall time: 9min 4s\n"
     ]
    }
   ],
   "source": [
    "%%time\n",
    "\n",
    "ds_avg = xr.Dataset()\n",
    "\n",
    "for year in np.arange(63,125,1):\n",
    "    yr4=\"0{:02d}\".format(year).zfill(4)\n",
    "    print(year)\n",
    "    \n",
    "    ds_annual = xr.Dataset()\n",
    "\n",
    "    file = sorted(glob(f'{path}/{case}.pop.h.{yr4}-*.nc'))\n",
    "    \n",
    "    dsv_annual=xr.open_mfdataset(file, decode_times=True,drop_variables=[\"transport_components\", \"transport_regions\"], \n",
    "                            parallel=True, compat=\"override\", combine='nested', concat_dim=\"time\",data_vars=\"minimal\",coords='minimal' )\n",
    "    \n",
    "    for vv in variables: \n",
    "        ds_annual = xr.merge((ds_annual, dsv_annual[vv]))\n",
    "        \n",
    "\n",
    "    ds_annual = ds_annual.drop([v for v in ds_annual.variables if v not in keep_vars]).squeeze()\n",
    "    ds_annual = ds_annual.mean(dim='time')\n",
    "    ds_avg = xr.concat([ds_avg, ds_annual],dim='year')"
   ]
  },
  {
   "cell_type": "markdown",
   "id": "94d39ada-6771-4c52-b835-9ee81fdc564c",
   "metadata": {},
   "source": [
    "## Find the depth at the bottom, and this way we can check that out for this year that comes next!! \n",
    "    - KMT is the k index of deepest grid cell of the T grid. This means that this is the depth level that I am trying to target the flux to the bottom... to do that, since this should be the same for every year, I need to find it by creating a new array with a value 0 staying the same if that is the deepest grid cell, and for the rest do depth-1. \n",
    "\n",
    "    - I could do it in a loop, or I could subtract one from eveyone and then any negative values make them zero... "
   ]
  },
  {
   "cell_type": "code",
   "execution_count": 5,
   "id": "e1bdf283-37f0-4384-9fa3-53342520628e",
   "metadata": {},
   "outputs": [],
   "source": [
    "# Finding the bottom depth the second way... \n",
    "kmt_bottom = np.nanmean(ds_avg.KMT,axis=0)\n",
    "kmt_bottom_depth = kmt_bottom-1\n",
    "kmt_bottom_depth[kmt_bottom_depth==-1]=0"
   ]
  },
  {
   "cell_type": "markdown",
   "id": "8df7e7e0-4c7d-4aff-814a-817528800853",
   "metadata": {},
   "source": [
    "## Get a cluster so it can continue running without interruptions"
   ]
  },
  {
   "cell_type": "code",
   "execution_count": 6,
   "id": "e96ab24e-86a1-466a-9b5e-18f2b4cb0fcd",
   "metadata": {},
   "outputs": [],
   "source": [
    "USER = os.environ['USER']\n",
    "def get_ClusterClient():\n",
    "    import dask\n",
    "    from dask_jobqueue import PBSCluster\n",
    "    from dask.distributed import Client\n",
    "    cluster = PBSCluster(\n",
    "        cores=2,\n",
    "        memory='5 GB',\n",
    "        processes=1,\n",
    "        queue='casper',\n",
    "        resource_spec='select=1:ncpus=1:mem=25GB',\n",
    "        project='P93300070',\n",
    "        walltime='12:00:00',\n",
    "        interface='ib0',)\n",
    "\n",
    "    dask.config.set({\n",
    "        'distributed.dashboard.link':\n",
    "        'https://jupyterhub.hpc.ucar.edu/stable/user/{USER}/proxy/{port}/status'\n",
    "    })\n",
    "    client = Client(cluster)\n",
    "    return cluster, client"
   ]
  },
  {
   "cell_type": "code",
   "execution_count": 7,
   "id": "645ebeda-f3d7-44fd-9ca6-9ed55acb9a03",
   "metadata": {},
   "outputs": [
    {
     "data": {
      "text/html": [
       "<div>\n",
       "    <div style=\"width: 24px; height: 24px; background-color: #e1e1e1; border: 3px solid #9D9D9D; border-radius: 5px; position: absolute;\"> </div>\n",
       "    <div style=\"margin-left: 48px;\">\n",
       "        <h3 style=\"margin-bottom: 0px;\">Client</h3>\n",
       "        <p style=\"color: #9D9D9D; margin-bottom: 0px;\">Client-6f81adef-a654-11ed-8846-3cecef19f78e</p>\n",
       "        <table style=\"width: 100%; text-align: left;\">\n",
       "\n",
       "        <tr>\n",
       "        \n",
       "            <td style=\"text-align: left;\"><strong>Connection method:</strong> Cluster object</td>\n",
       "            <td style=\"text-align: left;\"><strong>Cluster type:</strong> dask_jobqueue.PBSCluster</td>\n",
       "        \n",
       "        </tr>\n",
       "\n",
       "        \n",
       "            <tr>\n",
       "                <td style=\"text-align: left;\">\n",
       "                    <strong>Dashboard: </strong> <a href=\"https://jupyterhub.hpc.ucar.edu/stable/user/gabyn/proxy/8787/status\" target=\"_blank\">https://jupyterhub.hpc.ucar.edu/stable/user/gabyn/proxy/8787/status</a>\n",
       "                </td>\n",
       "                <td style=\"text-align: left;\"></td>\n",
       "            </tr>\n",
       "        \n",
       "\n",
       "        </table>\n",
       "\n",
       "        \n",
       "            <details>\n",
       "            <summary style=\"margin-bottom: 20px;\"><h3 style=\"display: inline;\">Cluster Info</h3></summary>\n",
       "            <div class=\"jp-RenderedHTMLCommon jp-RenderedHTML jp-mod-trusted jp-OutputArea-output\">\n",
       "    <div style=\"width: 24px; height: 24px; background-color: #e1e1e1; border: 3px solid #9D9D9D; border-radius: 5px; position: absolute;\">\n",
       "    </div>\n",
       "    <div style=\"margin-left: 48px;\">\n",
       "        <h3 style=\"margin-bottom: 0px; margin-top: 0px;\">PBSCluster</h3>\n",
       "        <p style=\"color: #9D9D9D; margin-bottom: 0px;\">efde3420</p>\n",
       "        <table style=\"width: 100%; text-align: left;\">\n",
       "            <tr>\n",
       "                <td style=\"text-align: left;\">\n",
       "                    <strong>Dashboard:</strong> <a href=\"https://jupyterhub.hpc.ucar.edu/stable/user/gabyn/proxy/8787/status\" target=\"_blank\">https://jupyterhub.hpc.ucar.edu/stable/user/gabyn/proxy/8787/status</a>\n",
       "                </td>\n",
       "                <td style=\"text-align: left;\">\n",
       "                    <strong>Workers:</strong> 0\n",
       "                </td>\n",
       "            </tr>\n",
       "            <tr>\n",
       "                <td style=\"text-align: left;\">\n",
       "                    <strong>Total threads:</strong> 0\n",
       "                </td>\n",
       "                <td style=\"text-align: left;\">\n",
       "                    <strong>Total memory:</strong> 0 B\n",
       "                </td>\n",
       "            </tr>\n",
       "            \n",
       "        </table>\n",
       "\n",
       "        <details>\n",
       "            <summary style=\"margin-bottom: 20px;\">\n",
       "                <h3 style=\"display: inline;\">Scheduler Info</h3>\n",
       "            </summary>\n",
       "\n",
       "            <div style=\"\">\n",
       "    <div>\n",
       "        <div style=\"width: 24px; height: 24px; background-color: #FFF7E5; border: 3px solid #FF6132; border-radius: 5px; position: absolute;\"> </div>\n",
       "        <div style=\"margin-left: 48px;\">\n",
       "            <h3 style=\"margin-bottom: 0px;\">Scheduler</h3>\n",
       "            <p style=\"color: #9D9D9D; margin-bottom: 0px;\">Scheduler-8b36b43a-71e1-4927-89e4-72624d0b29ec</p>\n",
       "            <table style=\"width: 100%; text-align: left;\">\n",
       "                <tr>\n",
       "                    <td style=\"text-align: left;\">\n",
       "                        <strong>Comm:</strong> tcp://10.12.206.45:37624\n",
       "                    </td>\n",
       "                    <td style=\"text-align: left;\">\n",
       "                        <strong>Workers:</strong> 0\n",
       "                    </td>\n",
       "                </tr>\n",
       "                <tr>\n",
       "                    <td style=\"text-align: left;\">\n",
       "                        <strong>Dashboard:</strong> <a href=\"https://jupyterhub.hpc.ucar.edu/stable/user/gabyn/proxy/8787/status\" target=\"_blank\">https://jupyterhub.hpc.ucar.edu/stable/user/gabyn/proxy/8787/status</a>\n",
       "                    </td>\n",
       "                    <td style=\"text-align: left;\">\n",
       "                        <strong>Total threads:</strong> 0\n",
       "                    </td>\n",
       "                </tr>\n",
       "                <tr>\n",
       "                    <td style=\"text-align: left;\">\n",
       "                        <strong>Started:</strong> Just now\n",
       "                    </td>\n",
       "                    <td style=\"text-align: left;\">\n",
       "                        <strong>Total memory:</strong> 0 B\n",
       "                    </td>\n",
       "                </tr>\n",
       "            </table>\n",
       "        </div>\n",
       "    </div>\n",
       "\n",
       "    <details style=\"margin-left: 48px;\">\n",
       "        <summary style=\"margin-bottom: 20px;\">\n",
       "            <h3 style=\"display: inline;\">Workers</h3>\n",
       "        </summary>\n",
       "\n",
       "        \n",
       "\n",
       "    </details>\n",
       "</div>\n",
       "\n",
       "        </details>\n",
       "    </div>\n",
       "</div>\n",
       "            </details>\n",
       "        \n",
       "\n",
       "    </div>\n",
       "</div>"
      ],
      "text/plain": [
       "<Client: 'tcp://10.12.206.45:37624' processes=0 threads=0, memory=0 B>"
      ]
     },
     "execution_count": 7,
     "metadata": {},
     "output_type": "execute_result"
    }
   ],
   "source": [
    "cluster, client = get_ClusterClient()\n",
    "cluster.scale(10) \n",
    "client"
   ]
  },
  {
   "cell_type": "markdown",
   "id": "6ced6c44-6e45-4e87-8327-94241ea4adf4",
   "metadata": {},
   "source": [
    "#### Now create a loop where you find the POC flux at that depth level at each grid cell for every year of the simulation.. This is going to take a long time, so you need to make sure to continue saving... "
   ]
  },
  {
   "cell_type": "code",
   "execution_count": 29,
   "id": "44d01e76-79fd-4452-9167-66c7fff40ca9",
   "metadata": {},
   "outputs": [],
   "source": [
    "poc_flux = ds_avg.POC_FLUX_IN.values"
   ]
  },
  {
   "cell_type": "code",
   "execution_count": 30,
   "id": "b566e12a-5ee4-4344-be54-edc1eafd5343",
   "metadata": {},
   "outputs": [
    {
     "data": {
      "text/plain": [
       "(62, 60, 384, 320)"
      ]
     },
     "execution_count": 30,
     "metadata": {},
     "output_type": "execute_result"
    }
   ],
   "source": [
    "poc_flux.shape"
   ]
  },
  {
   "cell_type": "code",
   "execution_count": 36,
   "id": "69ce19bf-3091-474f-9e03-0f73eeba5023",
   "metadata": {},
   "outputs": [
    {
     "name": "stdout",
     "output_type": "stream",
     "text": [
      "0\n",
      "1\n",
      "2\n",
      "3\n",
      "4\n",
      "5\n",
      "6\n",
      "7\n",
      "8\n",
      "9\n",
      "10\n",
      "11\n",
      "12\n",
      "13\n",
      "14\n",
      "15\n",
      "16\n",
      "17\n",
      "18\n",
      "19\n",
      "20\n",
      "21\n",
      "22\n",
      "23\n",
      "24\n",
      "25\n",
      "26\n",
      "27\n",
      "28\n",
      "29\n",
      "30\n",
      "31\n",
      "32\n",
      "33\n",
      "34\n",
      "35\n",
      "36\n",
      "37\n",
      "38\n",
      "39\n",
      "40\n",
      "41\n",
      "42\n",
      "43\n",
      "44\n",
      "45\n",
      "46\n",
      "47\n",
      "48\n",
      "49\n",
      "50\n",
      "51\n",
      "52\n",
      "53\n",
      "54\n",
      "55\n",
      "56\n",
      "57\n",
      "58\n",
      "59\n",
      "CPU times: user 21.4 s, sys: 11 ms, total: 21.4 s\n",
      "Wall time: 22 s\n"
     ]
    }
   ],
   "source": [
    "%%time\n",
    "flux_bottom_62yr = np.empty([62,384,320]) # Size of the array that I need\n",
    "flux_bottom_62yr[:] = np.nan # make everything a nan inside of it\n",
    "for k in range(60):\n",
    "    print(k)\n",
    "    for i in range(384): # loop through the latitude \n",
    "        for j in range(320): # loop through the longitude \n",
    "            flux_bottom_62yr[k,i,j]= poc_flux[k,np.int(kmt_bottom_depth[i,j]),i,j]# mmol/m^3 cm/s"
   ]
  },
  {
   "cell_type": "code",
   "execution_count": 37,
   "id": "7b1ff299-3d3e-41eb-bc01-9d3c2ffd84e6",
   "metadata": {},
   "outputs": [],
   "source": [
    "np.save(\"/glade/scratch/gabyn/SPECTRA/flux_bottom_62yr.npy\",flux_bottom_62yr)"
   ]
  },
  {
   "cell_type": "markdown",
   "id": "3cc6b3f9-a781-48cd-a3a2-cfcc6fe131f3",
   "metadata": {},
   "source": [
    "## Close the cluster?"
   ]
  },
  {
   "cell_type": "code",
   "execution_count": 38,
   "id": "aa952f47-4b42-4b69-97a7-0b2ef85e7122",
   "metadata": {},
   "outputs": [],
   "source": [
    "cluster.close()"
   ]
  },
  {
   "cell_type": "code",
   "execution_count": null,
   "id": "e16f2e98-1f31-48fc-81ed-65e16dd3406e",
   "metadata": {},
   "outputs": [],
   "source": []
  }
 ],
 "metadata": {
  "kernelspec": {
   "display_name": "NPL 2023a",
   "language": "python",
   "name": "npl-2023a"
  },
  "language_info": {
   "codemirror_mode": {
    "name": "ipython",
    "version": 3
   },
   "file_extension": ".py",
   "mimetype": "text/x-python",
   "name": "python",
   "nbconvert_exporter": "python",
   "pygments_lexer": "ipython3",
   "version": "3.9.16"
  }
 },
 "nbformat": 4,
 "nbformat_minor": 5
}
