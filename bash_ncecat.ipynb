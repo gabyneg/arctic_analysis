{
 "cells": [
  {
   "cell_type": "markdown",
   "id": "72cc2e36-1744-438a-8bf1-ebb222980f39",
   "metadata": {},
   "source": [
    "## Create a bash script where you add all years and months in a single file?"
   ]
  },
  {
   "cell_type": "markdown",
   "id": "4b86af83-8624-435e-92ae-e4fa8a2f715a",
   "metadata": {},
   "source": [
    "### Copy all the files into folder that I want! "
   ]
  },
  {
   "cell_type": "code",
   "execution_count": null,
   "id": "47105a47-c69d-489a-b858-4665b356b43e",
   "metadata": {},
   "outputs": [],
   "source": [
    "cd /glade/scratch/gabyn/archive/g.e21.G1850ECOIAF.t62_g17.marbl0_33.GNG595/ocn/hist/\n",
    "\n",
    "for n in {103..124}\n",
    "do\n",
    "    echo \"Working on simulation ${n}...\"\n",
    "    cp g.e21.G1850ECOIAF.t62_g17.marbl0_33.GNG595.pop.h.0${n}-*.nc /glade/scratch/gabyn/SPECTRA/GNG595_monthly_yearly_1990_2009\n",
    "done\n",
    "\n",
    "cd /glade/scratch/gabyn/SPECTRA/GNG595_monthly_yearly_1990_2009\n",
    "\n",
    "for j in {01..12};\n",
    "do for n in {103..124}\n",
    "do\n",
    "    echo \"Working on simulation ${n}...\"\n",
    "    mv  g.e21.G1850ECOIAF.t62_g17.marbl0_33.GNG595.pop.h.0${n}-${j}.nc SPECTRA_${n}_${j}.nc\n",
    "done;\n",
    "done;\n",
    "\n",
    "for n in {103..124};\n",
    "do\n",
    "    echo \"Working on simulation ${n}...\"\n",
    "    ncrcat SPECTRA_${n}_01.nc SPECTRA_${n}_02.nc SPECTRA_${n}_03.nc SPECTRA_${n}_04.nc SPECTRA_${n}_05.nc SPECTRA_${n}_06.nc SPECTRA_${n}_07.nc SPECTRA_${n}_08.nc SPECTRA_${n}_09.nc SPECTRA_${n}_10.nc SPECTRA_${n}_11.nc SPECTRA_${n}_12.nc SPECTRA_${n}.nc\n",
    "done;"
   ]
  },
  {
   "cell_type": "code",
   "execution_count": null,
   "id": "6a935e6f-bf51-4952-8948-3d3c01f46d7c",
   "metadata": {},
   "outputs": [],
   "source": [
    "for j in {01..12};\n",
    "do for n in {062..124};\n",
    "do\n",
    "    echo \"Working on simulation ${n}...\"\n",
    "    mv  g.e21.G1850ECOIAF.t62_g17.marbl0_33.GNG595.pop.h.0${n}-${j}.nc SPECTRA_${n}_${j}.nc\n",
    "done;\n",
    "done;"
   ]
  },
  {
   "cell_type": "markdown",
   "id": "c3dd427d-7ef0-445a-a31e-820ca326facf",
   "metadata": {},
   "source": [
    "### Rename files for easier manipulation"
   ]
  },
  {
   "cell_type": "code",
   "execution_count": null,
   "id": "0622d537-527f-4039-bd5b-364621ece29e",
   "metadata": {},
   "outputs": [],
   "source": [
    "cd /glade/u/home/gabyn/scratch/SPECTRA/nc_files\n",
    "ncatted -a coordinates,zooC_summer_bm,c,c,\"TLONG TLAT\" zoo_bmss_62yr.nc\n",
    "ncatted -a coordinates,zooC_spring_bm,c,c,\"TLONG TLAT\" zoo_bmss_62yr.nc\n",
    "ncatted -a coordinates,zooC_fall_bm,c,c,\"TLONG TLAT\" zoo_bmss_62yr.nc\n",
    "ncatted -a coordinates,zooC_winter_bm,c,c,\"TLONG TLAT\" zoo_bmss_62yr.nc\n",
    "\n",
    "cdo remapbil,r360x180 -selname,zooC_summer_bm zoo_bmss_62yr.nc summer_zoo_bmss_62yr.nc\n",
    "cdo remapbil,r360x180 -selname,zooC_spring_bm zoo_bmss_62yr.nc spring_zoo_bmss_62yr.nc\n",
    "cdo remapbil,r360x180 -selname,zooC_fall_bm zoo_bmss_62yr.nc fall_zoo_bmss_62yr.nc\n",
    "cdo remapbil,r360x180 -selname,zooC_winter_bm zoo_bmss_62yr.nc winter_zoo_bmss_62yr.nc\n",
    "\n",
    "\n",
    "cdo sellonlatbox,-180,180,-89.5,89.5 summer_zoo_bmss_62yr.nc regrid_summer_zoo_bmss_62yr.nc\n",
    "cdo sellonlatbox,-180,180,-89.5,89.5 spring_zoo_bmss_62yr.nc regrid_spring_zoo_bmss_62yr.nc\n",
    "cdo sellonlatbox,-180,180,-89.5,89.5 fall_zoo_bmss_62yr.nc regrid_fall_phyto_zoo_62yr.nc\n",
    "cdo sellonlatbox,-180,180,-89.5,89.5 winter_zoo_bmss_62yr.nc regrid_winter_zoo_bmss_62yr.nc"
   ]
  },
  {
   "cell_type": "code",
   "execution_count": null,
   "id": "8379209a-f32d-4dbe-a1c5-893fa2d92dd6",
   "metadata": {},
   "outputs": [],
   "source": [
    "cd /glade/u/home/gabyn/scratch/SPECTRA/nc_files\n",
    "ncatted -a coordinates,sar_surface_62yr_slope,c,c,\"TLONG TLAT\" size_abundance_relationship.nc\n",
    "cdo remapbil,r360x180 -selname,sar_surface_62yr_slope size_abundance_relationship.nc size_abundance_relationship_slope.nc\n",
    "cdo sellonlatbox,-180,180,-89.5,89.5 size_abundance_relationship_slope.nc regrid_size_abundance_relationship_slope.nc\n",
    "\n",
    "\n",
    "ncatted -a coordinates,sar_surface_62yr_intercept,c,c,\"TLONG TLAT\" size_abundance_relationship.nc\n",
    "cdo remapbil,r360x180 -selname,sar_surface_62yr_intercept size_abundance_relationship.nc size_abundance_relationship_intercept.nc\n",
    "cdo sellonlatbox,-180,180,-89.5,89.5 size_abundance_relationship_intercept.nc regrid_size_abundance_relationship_intercept.nc"
   ]
  },
  {
   "cell_type": "code",
   "execution_count": null,
   "id": "b7e3b065-d265-456e-9741-086cf5906fa5",
   "metadata": {},
   "outputs": [],
   "source": [
    "for n in {107..124};\n",
    "do\n",
    "    echo \"Working on simulation ${n}...\"\n",
    "    ncrcat SPECTRA_${n}_01.nc SPECTRA_${n}_02.nc SPECTRA_${n}_03.nc SPECTRA_${n}_04.nc SPECTRA_${n}_05.nc SPECTRA_${n}_06.nc SPECTRA_${n}_07.nc SPECTRA_${n}_08.nc SPECTRA_${n}_09.nc SPECTRA_${n}_10.nc SPECTRA_${n}_11.nc SPECTRA_${n}_12.nc SPECTRA_${n}.nc\n",
    "done;\n",
    "\n",
    "for n in {104..124}\n",
    "do\n",
    "echo \"Working on simulation ${n}...\"\n",
    "ncatted -a coordinates,photoC_TOT,c,c,\"TLONG TLAT\" SPECTRA_${n}.nc\n",
    "ncatted -a coordinates,ECOSYS_IFRAC,c,c,\"TLONG TLAT\" SPECTRA_${n}.nc\n",
    "ncatted -a coordinates,TEMP,c,c,\"TLONG TLAT\" SPECTRA_${n}.nc\n",
    "done\n",
    "\n",
    "for n in {104..124};\n",
    "do\n",
    "echo \"Working on simulation ${n}...\"\n",
    "cdo remapbil,r360x180 -selname,photoC_TOT SPECTRA_${n}.nc SPECTRA_photoC_TOT.${n}.nc\n",
    "cdo remapbil,r360x180 -selname,ECOSYS_IFRAC SPECTRA_${n}.nc SPECTRA_ECOSYS_IFRAC.${n}.nc\n",
    "cdo remapbil,r360x180 -selname,TEMP SPECTRA_${n}.nc SPECTRA_TEMP.${n}.nc\n",
    "done\n",
    "\n",
    "\n",
    "for n in {104..124}\n",
    "do\n",
    "echo \"Working on simulation ${n}...\"\n",
    "cdo sellonlatbox,-180,180,-89.5,89.5 SPECTRA_photoC_TOT.${n}.nc regrid_SPECTRA_photoC_TOT.${n}.nc\n",
    "cdo sellonlatbox,-180,180,-89.5,89.5 SPECTRA_ECOSYS_IFRAC.${n}.nc regrid_SPECTRA_ECOSYS_IFRAC.${n}.nc\n",
    "cdo sellonlatbox,-180,180,-89.5,89.5 SPECTRA_TEMP.${n}.nc regrid_SPECTRA_TEMP.${n}.nc\n",
    "done\n"
   ]
  },
  {
   "cell_type": "markdown",
   "id": "1d77103d-000c-4f0c-afa5-f45cbb599640",
   "metadata": {},
   "source": [
    "### Use ncecat to concatinate"
   ]
  },
  {
   "cell_type": "code",
   "execution_count": null,
   "id": "1a805300-abf7-47a1-b1b8-cd1814603e28",
   "metadata": {},
   "outputs": [],
   "source": [
    "for n in {062..103};\n",
    "do\n",
    "    echo \"Working on simulation ${n}...\"\n",
    "    ncrcat SPECTRA_${n}_01.nc SPECTRA_${n}_02.nc SPECTRA_${n}_03.nc SPECTRA_${n}_04.nc SPECTRA_${n}_05.nc SPECTRA_${n}_06.nc SPECTRA_${n}_07.nc SPECTRA_${n}_08.nc SPECTRA_${n}_09.nc SPECTRA_${n}_10.nc SPECTRA_${n}_11.nc SPECTRA_${n}_12.nc SPECTRA_${n}.nc\n",
    "done;\n"
   ]
  },
  {
   "cell_type": "code",
   "execution_count": null,
   "id": "4730470d-7d69-4570-94bd-8286605bf85e",
   "metadata": {},
   "outputs": [],
   "source": [
    "for n in {062..103};\n",
    "do\n",
    "echo \"Working on simulation ${n}...\"\n",
    "cdo remapbil,r360x180 -selname,photoC_TOT SPECTRA_${n}.nc SPECTRA_photoC_TOT.${n}.nc\n",
    "cdo remapbil,r360x180 -selname,ECOSYS_IFRAC SPECTRA_${n}.nc SPECTRA_ECOSYS_IFRAC.${n}.nc\n",
    "cdo remapbil,r360x180 -selname,TEMP SPECTRA_${n}.nc SPECTRA_TEMP.${n}.nc\n",
    "done"
   ]
  },
  {
   "cell_type": "code",
   "execution_count": null,
   "id": "9e336e14-ba33-4a5c-80e2-e30386485636",
   "metadata": {},
   "outputs": [],
   "source": [
    "for n in {104..124}\n",
    "do\n",
    "echo \"Working on simulation ${n}...\"\n",
    "ncatted -a coordinates,diat1Chl,c,c,\"TLONG TLAT\" SPECTRA_${n}.nc\n",
    "ncatted -a coordinates,diat2Chl,c,c,\"TLONG TLAT\" SPECTRA_${n}.nc\n",
    "ncatted -a coordinates,diat3Chl,c,c,\"TLONG TLAT\" SPECTRA_${n}.nc\n",
    "ncatted -a coordinates,diazChl,c,c,\"TLONG TLAT\" SPECTRA_${n}.nc\n",
    "ncatted -a coordinates,mp1Chl,c,c,\"TLONG TLAT\" SPECTRA_${n}.nc\n",
    "ncatted -a coordinates,mp2Chl,c,c,\"TLONG TLAT\" SPECTRA_${n}.nc\n",
    "ncatted -a coordinates,mp3Chl,c,c,\"TLONG TLAT\" SPECTRA_${n}.nc\n",
    "ncatted -a coordinates,mp4Chl,c,c,\"TLONG TLAT\" SPECTRA_${n}.nc\n",
    "ncatted -a coordinates,ppChl,c,c,\"TLONG TLAT\" SPECTRA_${n}.nc\n",
    "ncatted -a coordinates,ECOSYS_IFRAC,c,c,\"TLONG TLAT\" SPECTRA_${n}.nc\n",
    "ncatted -a coordinates,PAR_avg,c,c,\"TLONG TLAT\" SPECTRA_${n}.nc\n",
    "done"
   ]
  },
  {
   "cell_type": "code",
   "execution_count": null,
   "id": "57d554a7-e68a-411d-8521-2e5399fb4010",
   "metadata": {},
   "outputs": [],
   "source": [
    "for n in {104..124}\n",
    "do\n",
    "echo \"Working on simulation ${n}...\"\n",
    "cdo remapbil,r360x180 -selname,diat1Chl SPECTRA_${n}.nc SPECTRA_diat1Chl.${n}.nc\n",
    "cdo remapbil,r360x180 -selname,diat2Chl SPECTRA_${n}.nc SPECTRA_diat2Chl.${n}.nc\n",
    "cdo remapbil,r360x180 -selname,diat3Chl SPECTRA_${n}.nc SPECTRA_diat3Chl.${n}.nc\n",
    "cdo remapbil,r360x180 -selname,diazChl SPECTRA_${n}.nc SPECTRA_diazChl.${n}.nc\n",
    "cdo remapbil,r360x180 -selname,mp1Chl SPECTRA_${n}.nc SPECTRA_mp1Chl.${n}.nc\n",
    "cdo remapbil,r360x180 -selname,mp2Chl SPECTRA_${n}.nc SPECTRA_mp2Chl.${n}.nc\n",
    "cdo remapbil,r360x180 -selname,mp3Chl SPECTRA_${n}.nc SPECTRA_mp3Chl.${n}.nc\n",
    "cdo remapbil,r360x180 -selname,mp4Chl SPECTRA_${n}.nc SPECTRA_mp4Chl.${n}.nc\n",
    "cdo remapbil,r360x180 -selname,ppChl SPECTRA_${n}.nc SPECTRA_ppChl.${n}.nc\n",
    "cdo remapbil,r360x180 -selname,ECOSYS_IFRAC SPECTRA_${n}.nc SPECTRA_ECOSYS_IFRAC.${n}.nc\n",
    "cdo remapbil,r360x180 -selname,PAR_avg SPECTRA_${n}.nc SPECTRA_PAR_avg.${n}.nc\n",
    "done"
   ]
  },
  {
   "cell_type": "code",
   "execution_count": null,
   "id": "773f32eb-e8e0-46b5-8ab0-a7f1a105cfc8",
   "metadata": {},
   "outputs": [],
   "source": [
    "for n in {104..124}\n",
    "do\n",
    "echo \"Working on simulation ${n}...\"\n",
    "cdo sellonlatbox,-180,180,-89.5,89.5 SPECTRA_diat1Chl.${n}.nc regrid_SPECTRA_diat1Chl.${n}.nc\n",
    "cdo sellonlatbox,-180,180,-89.5,89.5 SPECTRA_diat2Chl.${n}.nc regrid_SPECTRA_diat2Chl.${n}.nc\n",
    "cdo sellonlatbox,-180,180,-89.5,89.5 SPECTRA_diat3Chl.${n}.nc regrid_SPECTRA_diat3Chl.${n}.nc\n",
    "cdo sellonlatbox,-180,180,-89.5,89.5 SPECTRA_diazChl.${n}.nc regrid_SPECTRA_diazChl.${n}.nc\n",
    "cdo sellonlatbox,-180,180,-89.5,89.5 SPECTRA_mp1Chl.${n}.nc regrid_SPECTRA_mp1Chl.${n}.nc\n",
    "cdo sellonlatbox,-180,180,-89.5,89.5 SPECTRA_mp2Chl.${n}.nc regrid_SPECTRA_mp2Chl.${n}.nc\n",
    "cdo sellonlatbox,-180,180,-89.5,89.5 SPECTRA_mp3Chl.${n}.nc regrid_SPECTRA_mp3Chl.${n}.nc\n",
    "cdo sellonlatbox,-180,180,-89.5,89.5 SPECTRA_mp4Chl.${n}.nc regrid_SPECTRA_mp4Chl.${n}.nc\n",
    "cdo sellonlatbox,-180,180,-89.5,89.5 SPECTRA_ppChl.${n}.nc regrid_SPECTRA_ppChl.${n}.nc\n",
    "cdo sellonlatbox,-180,180,-89.5,89.5 SPECTRA_ECOSYS_IFRAC.${n}.nc regrid_SPECTRA_ECOSYS_IFRAC.${n}.nc\n",
    "cdo sellonlatbox,-180,180,-89.5,89.5 SPECTRA_PAR_avg.${n}.nc regrid_SPECTRA_PAR_avg.${n}.nc\n",
    "done"
   ]
  },
  {
   "cell_type": "code",
   "execution_count": null,
   "id": "5992fe52-7770-44a5-9a60-f4bf810fc146",
   "metadata": {},
   "outputs": [],
   "source": [
    "for n in {104..124}\n",
    "do\n",
    "echo \"Working on simulation ${n}...\"\n",
    "ncatted -a coordinates,diat1C,c,c,\"TLONG TLAT\" SPECTRA_${n}.nc\n",
    "ncatted -a coordinates,diat2C,c,c,\"TLONG TLAT\" SPECTRA_${n}.nc\n",
    "ncatted -a coordinates,diat3C,c,c,\"TLONG TLAT\" SPECTRA_${n}.nc\n",
    "ncatted -a coordinates,diazC,c,c,\"TLONG TLAT\" SPECTRA_${n}.nc\n",
    "ncatted -a coordinates,mp1C,c,c,\"TLONG TLAT\" SPECTRA_${n}.nc\n",
    "ncatted -a coordinates,mp2C,c,c,\"TLONG TLAT\" SPECTRA_${n}.nc\n",
    "ncatted -a coordinates,mp3C,c,c,\"TLONG TLAT\" SPECTRA_${n}.nc\n",
    "ncatted -a coordinates,mp4C,c,c,\"TLONG TLAT\" SPECTRA_${n}.nc\n",
    "ncatted -a coordinates,ppC,c,c,\"TLONG TLAT\" SPECTRA_${n}.nc\n",
    "ncatted -a coordinates,TEMP,c,c,\"TLONG TLAT\" SPECTRA_${n}.nc\n",
    "ncatted -a coordinates,zoo1C,c,c,\"TLONG TLAT\" SPECTRA_${n}.nc\n",
    "ncatted -a coordinates,zoo2C,c,c,\"TLONG TLAT\" SPECTRA_${n}.nc\n",
    "ncatted -a coordinates,zoo3C,c,c,\"TLONG TLAT\" SPECTRA_${n}.nc\n",
    "ncatted -a coordinates,zoo4C,c,c,\"TLONG TLAT\" SPECTRA_${n}.nc\n",
    "ncatted -a coordinates,zoo5C,c,c,\"TLONG TLAT\" SPECTRA_${n}.nc\n",
    "ncatted -a coordinates,zoo6C,c,c,\"TLONG TLAT\" SPECTRA_${n}.nc\n",
    "ncatted -a coordinates,NO3,c,c,\"TLONG TLAT\" SPECTRA_${n}.nc\n",
    "done"
   ]
  },
  {
   "cell_type": "code",
   "execution_count": null,
   "id": "49da3fd9-b4df-4bf8-b332-729ad6f3e9ab",
   "metadata": {},
   "outputs": [],
   "source": [
    "for n in {104..124}\n",
    "do\n",
    "echo \"Working on simulation ${n}...\"\n",
    "cdo remapbil,r360x180 -selname,diat1C SPECTRA_${n}.nc SPECTRA_diat1C.${n}.nc\n",
    "cdo remapbil,r360x180 -selname,diat2C SPECTRA_${n}.nc SPECTRA_diat2C.${n}.nc\n",
    "cdo remapbil,r360x180 -selname,diat3C SPECTRA_${n}.nc SPECTRA_diat3C.${n}.nc\n",
    "cdo remapbil,r360x180 -selname,diazC SPECTRA_${n}.nc SPECTRA_diazC.${n}.nc\n",
    "cdo remapbil,r360x180 -selname,mp1C SPECTRA_${n}.nc SPECTRA_mp1C.${n}.nc\n",
    "cdo remapbil,r360x180 -selname,mp2C SPECTRA_${n}.nc SPECTRA_mp2C.${n}.nc\n",
    "cdo remapbil,r360x180 -selname,mp3C SPECTRA_${n}.nc SPECTRA_mp3C.${n}.nc\n",
    "cdo remapbil,r360x180 -selname,mp4C SPECTRA_${n}.nc SPECTRA_mp4C.${n}.nc\n",
    "cdo remapbil,r360x180 -selname,ppC SPECTRA_${n}.nc SPECTRA_ppC.${n}.nc\n",
    "done"
   ]
  },
  {
   "cell_type": "code",
   "execution_count": null,
   "id": "657bb479-9188-4c87-a3d1-a7f35c813b83",
   "metadata": {},
   "outputs": [],
   "source": [
    "for n in {104..124}\n",
    "do\n",
    "echo \"Working on simulation ${n}...\"\n",
    "cdo sellonlatbox,-180,180,-89.5,89.5 SPECTRA_diat1C.${n}.nc regrid_SPECTRA_diat1C.${n}.nc\n",
    "cdo sellonlatbox,-180,180,-89.5,89.5 SPECTRA_diat2C.${n}.nc regrid_SPECTRA_diat2C.${n}.nc\n",
    "cdo sellonlatbox,-180,180,-89.5,89.5 SPECTRA_diat3C.${n}.nc regrid_SPECTRA_diat3C.${n}.nc\n",
    "cdo sellonlatbox,-180,180,-89.5,89.5 SPECTRA_diazC.${n}.nc regrid_SPECTRA_diazC.${n}.nc\n",
    "cdo sellonlatbox,-180,180,-89.5,89.5 SPECTRA_mp1C.${n}.nc regrid_SPECTRA_mp1C.${n}.nc\n",
    "cdo sellonlatbox,-180,180,-89.5,89.5 SPECTRA_mp2C.${n}.nc regrid_SPECTRA_mp2C.${n}.nc\n",
    "cdo sellonlatbox,-180,180,-89.5,89.5 SPECTRA_mp3C.${n}.nc regrid_SPECTRA_mp3C.${n}.nc\n",
    "cdo sellonlatbox,-180,180,-89.5,89.5 SPECTRA_mp4C.${n}.nc regrid_SPECTRA_mp4C.${n}.nc\n",
    "cdo sellonlatbox,-180,180,-89.5,89.5 SPECTRA_ppC.${n}.nc regrid_SPECTRA_ppC.${n}.nc\n",
    "done"
   ]
  },
  {
   "cell_type": "code",
   "execution_count": null,
   "id": "ce669d18-fdc8-4527-aa0b-de07591e8639",
   "metadata": {},
   "outputs": [],
   "source": [
    "## SST int0 2 by 1 degree\n",
    "\n",
    "for n in {062..103}\n",
    "do\n",
    "echo \"Working on simulation ${n}...\"\n",
    "cdo remapbil,r180x90 -selname,TEMP SPECTRA_${n}.nc SPECTRA_temp_2v2.${n}.nc\n",
    "done\n",
    "\n",
    "for n in {062..103}\n",
    "do\n",
    "echo \"Working on simulation ${n}...\"\n",
    "cdo sellonlatbox,0,358,-88,88 SPECTRA_temp_2v2.${n}.nc regrid_SPECTRA_temp_2v2.${n}.nc\n",
    "done"
   ]
  },
  {
   "cell_type": "code",
   "execution_count": null,
   "id": "d2ce923f-d182-476c-be1d-fd90355b1456",
   "metadata": {},
   "outputs": [],
   "source": [
    "## SST int0 2 by 1 degree\n",
    "cd /glade/scratch/gabyn/archive/g.e21.G1850ECOIAF.t62_g17.marbl0_33.GNG595/ocn/hist/\n",
    "\n",
    "for n in {104..124}\n",
    "do\n",
    "    echo \"Working on simulation ${n}...\"\n",
    "    cp g.e21.G1850ECOIAF.t62_g17.marbl0_33.GNG595.pop.h.0${n}-*.nc /glade/scratch/gabyn/SPECTRA/GNG595_monthly_yearly_1990_2009\n",
    "done\n",
    "\n",
    "cd /glade/scratch/gabyn/SPECTRA/GNG595_monthly_yearly_1990_2009\n",
    "\n",
    "for j in {01..12};\n",
    "do for n in {104..124}\n",
    "do\n",
    "    echo \"Working on simulation ${n}...\"\n",
    "    mv  g.e21.G1850ECOIAF.t62_g17.marbl0_33.GNG595.pop.h.0${n}-${j}.nc SPECTRA_${n}_${j}.nc\n",
    "done;\n",
    "done;\n",
    "\n",
    "for n in {104..124}\n",
    "do\n",
    "echo \"Working on simulation ${n}...\"\n",
    "ncatted -a coordinates,TEMP,c,c,\"TLONG TLAT\" SPECTRA_${n}.nc\n",
    "done\n",
    "\n",
    "for n in {104..124}\n",
    "do\n",
    "echo \"Working on simulation ${n}...\"\n",
    "cdo remapbil,r180x90 -selname,TEMP SPECTRA_${n}.nc SPECTRA_temp_2v2.${n}.nc\n",
    "done\n",
    "\n",
    "for n in {104..124}\n",
    "do\n",
    "echo \"Working on simulation ${n}...\"\n",
    "cdo sellonlatbox,0,358,-88,88 SPECTRA_temp_2v2.${n}.nc regrid_SPECTRA_temp_2v2.${n}.nc\n",
    "done"
   ]
  },
  {
   "cell_type": "code",
   "execution_count": null,
   "id": "e0d7232d-bd61-423a-8d55-0ef9b4421b94",
   "metadata": {},
   "outputs": [],
   "source": []
  }
 ],
 "metadata": {
  "kernelspec": {
   "display_name": "Python [conda env:miniconda3-python-tutorial]",
   "language": "python",
   "name": "conda-env-miniconda3-python-tutorial-py"
  },
  "language_info": {
   "codemirror_mode": {
    "name": "ipython",
    "version": 3
   },
   "file_extension": ".py",
   "mimetype": "text/x-python",
   "name": "python",
   "nbconvert_exporter": "python",
   "pygments_lexer": "ipython3",
   "version": "3.7.12"
  }
 },
 "nbformat": 4,
 "nbformat_minor": 5
}
